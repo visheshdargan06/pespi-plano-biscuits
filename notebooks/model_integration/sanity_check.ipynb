{
 "cells": [
  {
   "cell_type": "code",
   "execution_count": 1,
   "metadata": {},
   "outputs": [
    {
     "name": "stdout",
     "output_type": "stream",
     "text": [
      "/media/premium/common-biscuit/main/planogram_biscuit/src\n"
     ]
    }
   ],
   "source": [
    "import os\n",
    "import sys\n",
    "import json\n",
    "from tqdm import tqdm\n",
    "module_path = os.path.abspath(os.path.join('../../src/'))\n",
    "if module_path not in sys.path:\n",
    "    sys.path.append(module_path)\n",
    "\n",
    "%cd ../../src"
   ]
  },
  {
   "cell_type": "code",
   "execution_count": 2,
   "metadata": {},
   "outputs": [],
   "source": [
    "from scoring.check_image import sanity_check,image_sanity_check"
   ]
  },
  {
   "cell_type": "code",
   "execution_count": 3,
   "metadata": {},
   "outputs": [],
   "source": [
    "image_annotaions_path = '/media/premium/common-biscuit/main/planogram_biscuit/data/output/image_annotations/integrated/op_annotations_new/'"
   ]
  },
  {
   "cell_type": "code",
   "execution_count": 4,
   "metadata": {},
   "outputs": [
    {
     "name": "stderr",
     "output_type": "stream",
     "text": [
      "100%|██████████| 986/986 [00:01<00:00, 601.01it/s]\n"
     ]
    }
   ],
   "source": [
    "def get_remove_images(image_annotaions_path):\n",
    "    remove_images = {}\n",
    "    for data in tqdm(os.listdir(image_annotaions_path)):\n",
    "        with open(image_annotaions_path + data, 'r') as json_file:\n",
    "                intergrated_output = json.load(json_file)\n",
    "        if intergrated_output['image_name'] not in remove_images:\n",
    "            image_check, reason = sanity_check(intergrated_output)\n",
    "            if image_check is False:\n",
    "                remove_images[intergrated_output['image_name']] = reason\n",
    "                if 'after' in intergrated_output['image_name']:\n",
    "                    remove_images[intergrated_output['image_name'].replace('after', 'prev')] = \"After image has issues\"\n",
    "                elif 'prev' in intergrated_output['image_name']:\n",
    "                    remove_images[intergrated_output['image_name'].replace('prev', 'after')] = \"Previous image has issues\"\n",
    "    return remove_images"
   ]
  },
  {
   "cell_type": "code",
   "execution_count": 12,
   "metadata": {},
   "outputs": [
    {
     "data": {
      "text/plain": [
       "{'MX-G06134_0100915320_70105295_19.12224100~-98.17061400_1_2021-11-10_after.jpg': 'Thresholds not passed',\n",
       " 'MX-G06134_0100915320_70105295_19.12224100~-98.17061400_1_2021-11-10_prev.jpg': 'After image has issues',\n",
       " 'MX-G06134_0101004807_70105295_19.12559000~-98.16517000_1_2021-11-10_after.jpg': 'No rows',\n",
       " 'MX-G06134_0101004807_70105295_19.12559000~-98.16517000_1_2021-11-10_prev.jpg': 'After image has issues',\n",
       " 'MX-G06135_0101171778_80111345_19.11235600~-98.16942000_1_2021-11-09_after.jpg': 'No rows',\n",
       " 'MX-G06135_0101171778_80111345_19.11235600~-98.16942000_1_2021-11-09_prev.jpg': 'After image has issues',\n",
       " 'MX-G06136_0100809549_70113764_19.09164000~-98.19024000_1-2_2021-11-10_after.jpg': 'Thresholds not passed',\n",
       " 'MX-G06136_0100809549_70113764_19.09164000~-98.19024000_1-2_2021-11-10_prev.jpg': 'After image has issues',\n",
       " 'MX-G06136_0100904595_70113764_19.09088000~-98.18766000_1_2021-11-09_after.jpg': 'No rows',\n",
       " 'MX-G06136_0100904595_70113764_19.09088000~-98.18766000_1_2021-11-09_prev.jpg': 'After image has issues',\n",
       " 'MX-G06136_0101479508_70113764_19.09349100~-98.18086900_1_2021-11-08_after.jpg': 'Thresholds not passed',\n",
       " 'MX-G06136_0101479508_70113764_19.09349100~-98.18086900_1_2021-11-08_prev.jpg': 'After image has issues',\n",
       " 'MX-G06136_0101484599_70113764_19.09475500~-98.18840200_1_2021-11-11_prev.jpg': 'Thresholds not passed',\n",
       " 'MX-G06136_0101484599_70113764_19.09475500~-98.18840200_1_2021-11-11_after.jpg': 'Previous image has issues',\n",
       " 'MX-G06136_0101557178_70113764_19.08833100~-98.19042200_1-2_2021-11-10_after.jpg': 'Thresholds not passed',\n",
       " 'MX-G06136_0101557178_70113764_19.08833100~-98.19042200_1-2_2021-11-10_prev.jpg': 'After image has issues',\n",
       " 'MX-G06136_0101558318_70113764_19.08578600~-98.18485900_1_2021-11-09_prev.jpg': 'No rows',\n",
       " 'MX-G06136_0101558318_70113764_19.08578600~-98.18485900_1_2021-11-09_after.jpg': 'Previous image has issues',\n",
       " 'MX-G06136_0103182316_70113764_19.09628000~-98.18809800_1_2021-11-11_prev.jpg': 'Thresholds not passed',\n",
       " 'MX-G06136_0103182316_70113764_19.09628000~-98.18809800_1_2021-11-11_after.jpg': 'Previous image has issues',\n",
       " 'MX-G06140_0103729157_70120259_19.08728901~-98.12716606_1_2021-11-10_prev.jpg': 'Thresholds not passed',\n",
       " 'MX-G06140_0103729157_70120259_19.08728901~-98.12716606_1_2021-11-10_after.jpg': 'Previous image has issues',\n",
       " 'MX-G06141_0103719890_70101248_19.06780095~-98.14768506_1_2021-11-09_after.jpg': 'Thresholds not passed',\n",
       " 'MX-G06141_0103719890_70101248_19.06780095~-98.14768506_1_2021-11-09_prev.jpg': 'After image has issues',\n",
       " 'MX-G06167_0100893189_70207412_19.07334000~-98.17454000_1_2021-11-09_after.jpg': 'No rows',\n",
       " 'MX-G06167_0100893189_70207412_19.07334000~-98.17454000_1_2021-11-09_prev.jpg': 'After image has issues',\n",
       " 'MX-G06167_0103789188_70207412_19.07700611~-98.17759780_1_2021-11-10_after.jpg': 'Thresholds not passed',\n",
       " 'MX-G06167_0103789188_70207412_19.07700611~-98.17759780_1_2021-11-10_prev.jpg': 'After image has issues'}"
      ]
     },
     "execution_count": 12,
     "metadata": {},
     "output_type": "execute_result"
    }
   ],
   "source": [
    "def image_sanity_check():\n",
    "    # packets_output_dir = self.blob_base_dir + self.config['integrated_output']['packets_output_dir'] + self.output_images_folder\n",
    "    # rackrow_output_dir = self.blob_base_dir + self.config['integrated_output']['rackrow_output_dir'] + self.output_images_folder\n",
    "    packets_output_dir = \"/media/premium/common-biscuit/main/planogram_biscuit/data/output/image_annotations/packets_detection/op_annotations_new/\"\n",
    "    rackrow_output_dir = \"/media/premium/common-biscuit/main/planogram_biscuit/data/output/image_annotations/rackrow_detection/op_annotations_new/\"\n",
    "\n",
    "    remove_images = {}\n",
    "    for json_output in os.listdir(rackrow_output_dir):\n",
    "        if 'ipynb' in json_output:\n",
    "            continue\n",
    "        \n",
    "        with open(packets_output_dir + json_output, 'r') as json_file:\n",
    "            packets_output = json.load(json_file)\n",
    "            \n",
    "        with open(rackrow_output_dir + json_output, 'r') as json_file:\n",
    "            rack_row_output = json.load(json_file)\n",
    "    \n",
    "        packets_output['row_boxes'] = rack_row_output['row_boxes']\n",
    "        packets_output['row_boxes_confidence'] = rack_row_output['row_boxes_confidence']\n",
    "\n",
    "        packets_output['complete_rack'] = rack_row_output['complete_rack']\n",
    "        packets_output['complete_rack_confidence'] = rack_row_output['complete_rack_confidence']\n",
    "\n",
    "        if packets_output['image_name'] not in remove_images:\n",
    "            image_check, reason = sanity_check(packets_output)\n",
    "            if image_check is False:\n",
    "                remove_images[packets_output['image_name']] = reason\n",
    "                if 'after' in packets_output['image_name']:\n",
    "                    remove_images[packets_output['image_name'].replace('after', 'prev')] = \"After image has issues\"\n",
    "                elif 'prev' in packets_output['image_name']:\n",
    "                    remove_images[packets_output['image_name'].replace('prev', 'after')] = \"Previous image has issues\"\n",
    "    return remove_images\n",
    "        \n",
    "remove_images = image_sanity_check()\n",
    "remove_images"
   ]
  },
  {
   "cell_type": "code",
   "execution_count": 7,
   "metadata": {},
   "outputs": [
    {
     "data": {
      "text/plain": [
       "{'MX-G06134_0100915320_70105295_19.12224100~-98.17061400_1_2021-11-10_after.jpg': 'Thresholds not passed',\n",
       " 'MX-G06134_0100915320_70105295_19.12224100~-98.17061400_1_2021-11-10_prev.jpg': 'After image has issues',\n",
       " 'MX-G06134_0101004807_70105295_19.12559000~-98.16517000_1_2021-11-10_prev.jpg': 'Thresholds not passed',\n",
       " 'MX-G06134_0101004807_70105295_19.12559000~-98.16517000_1_2021-11-10_after.jpg': 'Previous image has issues',\n",
       " 'MX-G06135_0101171778_80111345_19.11235600~-98.16942000_1_2021-11-09_after.jpg': 'No rows',\n",
       " 'MX-G06135_0101171778_80111345_19.11235600~-98.16942000_1_2021-11-09_prev.jpg': 'After image has issues',\n",
       " 'MX-G06136_0100809549_70113764_19.09164000~-98.19024000_1-2_2021-11-10_after.jpg': 'Thresholds not passed',\n",
       " 'MX-G06136_0100809549_70113764_19.09164000~-98.19024000_1-2_2021-11-10_prev.jpg': 'After image has issues',\n",
       " 'MX-G06136_0100904595_70113764_19.09088000~-98.18766000_1_2021-11-09_after.jpg': 'No rows',\n",
       " 'MX-G06136_0100904595_70113764_19.09088000~-98.18766000_1_2021-11-09_prev.jpg': 'After image has issues',\n",
       " 'MX-G06136_0101479508_70113764_19.09349100~-98.18086900_1_2021-11-08_after.jpg': 'Thresholds not passed',\n",
       " 'MX-G06136_0101479508_70113764_19.09349100~-98.18086900_1_2021-11-08_prev.jpg': 'After image has issues',\n",
       " 'MX-G06136_0101484599_70113764_19.09475500~-98.18840200_1_2021-11-11_prev.jpg': 'Thresholds not passed',\n",
       " 'MX-G06136_0101484599_70113764_19.09475500~-98.18840200_1_2021-11-11_after.jpg': 'Previous image has issues',\n",
       " 'MX-G06136_0101557178_70113764_19.08833100~-98.19042200_1-2_2021-11-10_prev.jpg': 'No rows',\n",
       " 'MX-G06136_0101557178_70113764_19.08833100~-98.19042200_1-2_2021-11-10_after.jpg': 'Previous image has issues',\n",
       " 'MX-G06136_0101558318_70113764_19.08578600~-98.18485900_1_2021-11-09_prev.jpg': 'No rows',\n",
       " 'MX-G06136_0101558318_70113764_19.08578600~-98.18485900_1_2021-11-09_after.jpg': 'Previous image has issues',\n",
       " 'MX-G06136_0103182316_70113764_19.09628000~-98.18809800_1_2021-11-11_prev.jpg': 'Thresholds not passed',\n",
       " 'MX-G06136_0103182316_70113764_19.09628000~-98.18809800_1_2021-11-11_after.jpg': 'Previous image has issues',\n",
       " 'MX-G06140_0103729157_70120259_19.08728901~-98.12716606_1_2021-11-10_prev.jpg': 'Thresholds not passed',\n",
       " 'MX-G06140_0103729157_70120259_19.08728901~-98.12716606_1_2021-11-10_after.jpg': 'Previous image has issues',\n",
       " 'MX-G06141_0103719890_70101248_19.06780095~-98.14768506_1_2021-11-09_after.jpg': 'Thresholds not passed',\n",
       " 'MX-G06141_0103719890_70101248_19.06780095~-98.14768506_1_2021-11-09_prev.jpg': 'After image has issues',\n",
       " 'MX-G06167_0100893189_70207412_19.07334000~-98.17454000_1_2021-11-09_after.jpg': 'No rows',\n",
       " 'MX-G06167_0100893189_70207412_19.07334000~-98.17454000_1_2021-11-09_prev.jpg': 'After image has issues',\n",
       " 'MX-G06167_0103789188_70207412_19.07700611~-98.17759780_1_2021-11-10_after.jpg': 'Thresholds not passed',\n",
       " 'MX-G06167_0103789188_70207412_19.07700611~-98.17759780_1_2021-11-10_prev.jpg': 'After image has issues'}"
      ]
     },
     "execution_count": 7,
     "metadata": {},
     "output_type": "execute_result"
    }
   ],
   "source": [
    "remove_images = get_remove_images(image_annotaions_path)\n",
    "remove_images"
   ]
  },
  {
   "cell_type": "code",
   "execution_count": null,
   "metadata": {},
   "outputs": [],
   "source": []
  },
  {
   "cell_type": "code",
   "execution_count": 3,
   "metadata": {},
   "outputs": [],
   "source": [
    "remove_images = image_sanity_check()"
   ]
  },
  {
   "cell_type": "code",
   "execution_count": 4,
   "metadata": {},
   "outputs": [],
   "source": [
    "import subprocess as sbp\n",
    "file_location = '/media/premium/common-biscuit/main/planogram_biscuit/data/output/compliance_visualization/compliance_output_updated'\n",
    "save_location = '/media/premium/common-biscuit/main/planogram_biscuit/data/output/validation/image_sanity_check_new1/'\n",
    "for k,v in remove_images.items():\n",
    "    sbp.call(['cp', os.path.join(file_location, k.split(\".\")[0]+'.jpg'), os.path.join(save_location,k.split(\".\")[0]+'.jpg')])"
   ]
  },
  {
   "cell_type": "code",
   "execution_count": 2,
   "metadata": {},
   "outputs": [
    {
     "name": "stdout",
     "output_type": "stream",
     "text": [
      "34.1874 34.26075\n",
      "22.0689 21.146142857142856\n",
      "32.8608 51.25454545454546\n",
      "11.1834 23.267\n",
      "32.246 26.996875\n",
      "23.091833333333337 0\n",
      "2.4733 0\n",
      "120.549 206.06574999999998\n",
      "86.80289999999998 97.06223076923078\n",
      "77.72453333333334 76.36484999999999\n",
      "9.18 38.43183333333334\n",
      "71.4917 31.325509090909094\n"
     ]
    }
   ],
   "source": [
    "from scoring.check_image import image_sanity_check\n",
    "\n",
    "remove_images = image_sanity_check()"
   ]
  },
  {
   "cell_type": "code",
   "execution_count": 3,
   "metadata": {},
   "outputs": [
    {
     "data": {
      "text/plain": [
       "34"
      ]
     },
     "execution_count": 3,
     "metadata": {},
     "output_type": "execute_result"
    }
   ],
   "source": [
    "len(remove_images)"
   ]
  },
  {
   "cell_type": "code",
   "execution_count": null,
   "metadata": {},
   "outputs": [],
   "source": []
  }
 ],
 "metadata": {
  "interpreter": {
   "hash": "b0a17e71cfb66f8415d4593289c0bacfa768b3c5271e5ec471dd4b1ffdc68e6e"
  },
  "kernelspec": {
   "display_name": "Python 3.6.13 64-bit ('pepsi': conda)",
   "language": "python",
   "name": "python3"
  },
  "language_info": {
   "codemirror_mode": {
    "name": "ipython",
    "version": 3
   },
   "file_extension": ".py",
   "mimetype": "text/x-python",
   "name": "python",
   "nbconvert_exporter": "python",
   "pygments_lexer": "ipython3",
   "version": "3.6.13"
  },
  "orig_nbformat": 4
 },
 "nbformat": 4,
 "nbformat_minor": 2
}
