{
 "cells": [
  {
   "cell_type": "code",
   "execution_count": 1,
   "metadata": {},
   "outputs": [
    {
     "name": "stdout",
     "output_type": "stream",
     "text": [
      "/media/premium/common-biscuit/main/planogram_biscuit/src\n"
     ]
    }
   ],
   "source": [
    "import os\n",
    "import sys\n",
    "module_path = os.path.abspath(os.path.join('../../src/'))\n",
    "if module_path not in sys.path:\n",
    "    sys.path.append(module_path)\n",
    "\n",
    "%cd ../../src"
   ]
  },
  {
   "cell_type": "code",
   "execution_count": 3,
   "metadata": {},
   "outputs": [],
   "source": [
    "from scoring.Locator import Locator\n",
    "locator = Locator() \n"
   ]
  },
  {
   "cell_type": "code",
   "execution_count": 2,
   "metadata": {},
   "outputs": [],
   "source": [
    "import os\n",
    "import sys\n",
    "import json"
   ]
  },
  {
   "cell_type": "code",
   "execution_count": 4,
   "metadata": {},
   "outputs": [],
   "source": [
    " \n",
    "pred_dir = '/media/premium/common-biscuit/main/planogram_biscuit/data/output/image_annotations/integrated/op_annotations_rack'\n"
   ]
  },
  {
   "cell_type": "code",
   "execution_count": 5,
   "metadata": {},
   "outputs": [],
   "source": [
    "predictions = os.listdir(pred_dir)"
   ]
  },
  {
   "cell_type": "code",
   "execution_count": 8,
   "metadata": {},
   "outputs": [
    {
     "data": {
      "text/plain": [
       "['PHOTO-2021-07-20-20-32-07 3.json',\n",
       " 'PHOTO-2021-07-20-20-32-07.json',\n",
       " 'PHOTO-2021-07-21-07-45-43 2.json',\n",
       " 'PHOTO-2021-07-21-07-45-43.json',\n",
       " 'PHOTO-2021-07-21-07-56-20.json',\n",
       " 'PHOTO-2021-07-21-08-05-38 2.json',\n",
       " 'PHOTO-2021-07-21-08-05-38.json',\n",
       " 'PHOTO-2021-07-21-08-13-01.json',\n",
       " 'PHOTO-2021-07-21-08-13-02.json',\n",
       " 'PHOTO-2021-07-21-08-21-00 2.json',\n",
       " 'PHOTO-2021-07-21-08-21-00.json',\n",
       " 'PHOTO-2021-07-21-08-35-00 2.json',\n",
       " 'PHOTO-2021-07-21-08-35-00.json',\n",
       " 'PHOTO-2021-07-21-08-38-26.json',\n",
       " 'PHOTO-2021-07-21-08-59-06.json',\n",
       " 'PHOTO-2021-07-21-09-02-19.json',\n",
       " 'PHOTO-2021-07-21-09-11-07.json',\n",
       " 'PHOTO-2021-07-21-09-17-10 2.json',\n",
       " 'PHOTO-2021-07-21-09-17-10.json',\n",
       " 'PHOTO-2021-07-21-09-19-00.json',\n",
       " 'PHOTO-2021-07-21-09-24-05 2.json',\n",
       " 'PHOTO-2021-07-21-09-43-14.json',\n",
       " 'PHOTO-2021-07-21-09-57-52.json',\n",
       " 'PHOTO-2021-07-21-09-58-17.json',\n",
       " 'PHOTO-2021-07-21-10-32-47.json',\n",
       " 'PHOTO-2021-07-21-10-43-25.json',\n",
       " 'PHOTO-2021-07-21-10-43-46.json',\n",
       " 'PHOTO-2021-07-21-10-52-44.json',\n",
       " 'PHOTO-2021-07-21-10-55-27.json',\n",
       " 'PHOTO-2021-07-21-10-55-57.json',\n",
       " 'PHOTO-2021-07-21-10-56-07.json',\n",
       " 'PHOTO-2021-07-21-11-00-19.json',\n",
       " 'PHOTO-2021-07-21-11-00-20.json',\n",
       " 'PHOTO-2021-07-21-11-11-49.json',\n",
       " 'PHOTO-2021-07-21-11-12-09.json',\n",
       " 'PHOTO-2021-07-21-11-12-42 2.json',\n",
       " 'PHOTO-2021-07-21-11-12-42.json',\n",
       " 'PHOTO-2021-07-21-11-13-15.json',\n",
       " 'PHOTO-2021-07-21-14-21-14.json',\n",
       " 'PHOTO-2021-07-22-08-11-50.json',\n",
       " 'PHOTO-2021-07-22-08-12-16.json',\n",
       " 'PHOTO-2021-07-22-08-18-44.json',\n",
       " 'PHOTO-2021-07-22-08-29-32.json',\n",
       " 'PHOTO-2021-07-22-08-41-49 2.json',\n",
       " 'PHOTO-2021-07-24-11-55-40.json',\n",
       " 'PHOTO-2021-07-24-12-00-38.json',\n",
       " 'PHOTO-2021-07-24-12-38-38.json',\n",
       " 'PHOTO-2021-07-24-12-39-01.json',\n",
       " 'PHOTO-2021-07-24-12-39-48.json',\n",
       " 'PHOTO-2021-07-24-12-47-31.json',\n",
       " 'PHOTO-2021-07-24-12-51-47.json',\n",
       " 'PHOTO-2021-07-24-13-16-37.json',\n",
       " 'PHOTO-2021-07-24-13-20-31.json',\n",
       " 'PHOTO-2021-07-24-13-25-21.json',\n",
       " 'PHOTO-2021-07-24-13-27-25.json',\n",
       " 'PHOTO-2021-07-24-14-08-36.json',\n",
       " 'PHOTO-2021-07-24-14-26-10.json',\n",
       " 'PHOTO-2021-07-24-14-35-14.json',\n",
       " 'PHOTO-2021-07-24-14-43-18.json',\n",
       " 'PHOTO-2021-07-24-14-55-04.json',\n",
       " 'PHOTO-2021-07-24-14-58-11.json',\n",
       " 'PHOTO-2021-07-24-15-11-20.json',\n",
       " 'PHOTO-2021-07-24-15-11-31.json',\n",
       " 'PHOTO-2021-07-24-15-30-52.json',\n",
       " 'PHOTO-2021-07-24-15-46-21.json',\n",
       " 'PHOTO-2021-07-24-15-59-59.json',\n",
       " 'PHOTO-2021-07-26-08-42-47 2.json',\n",
       " 'PHOTO-2021-07-26-08-51-09.json',\n",
       " 'PHOTO-2021-07-26-09-05-38.json',\n",
       " 'PHOTO-2021-07-26-09-05-50.json',\n",
       " 'PHOTO-2021-07-26-09-31-57.json',\n",
       " 'PHOTO-2021-07-26-09-43-35.json',\n",
       " 'PHOTO-2021-07-26-09-43-37.json',\n",
       " 'PHOTO-2021-07-26-09-43-38.json',\n",
       " 'PHOTO-2021-07-26-09-53-35.json',\n",
       " 'PHOTO-2021-07-26-09-55-51.json',\n",
       " 'PHOTO-2021-07-26-10-02-55.json',\n",
       " 'PHOTO-2021-07-26-10-13-48.json',\n",
       " 'PHOTO-2021-07-26-10-14-14.json',\n",
       " 'PHOTO-2021-07-26-10-28-47.json',\n",
       " 'PHOTO-2021-07-26-10-31-39.json',\n",
       " 'PHOTO-2021-07-26-10-32-30.json',\n",
       " 'PHOTO-2021-07-26-10-41-29.json',\n",
       " 'PHOTO-2021-07-26-10-44-58.json',\n",
       " 'PHOTO-2021-07-26-10-52-53.json',\n",
       " 'PHOTO-2021-07-26-10-53-08.json',\n",
       " 'PHOTO-2021-07-26-10-53-36.json',\n",
       " 'PHOTO-2021-07-26-11-14-31.json',\n",
       " 'PHOTO-2021-07-26-11-24-03.json',\n",
       " 'PHOTO-2021-07-26-11-31-09.json',\n",
       " 'PHOTO-2021-07-26-11-35-06.json',\n",
       " 'PHOTO-2021-07-26-11-44-05.json',\n",
       " 'PHOTO-2021-07-26-11-46-15.json',\n",
       " 'PHOTO-2021-07-26-11-58-48.json',\n",
       " 'PHOTO-2021-07-26-11-59-11.json',\n",
       " 'PHOTO-2021-07-26-11-59-27.json',\n",
       " 'PHOTO-2021-07-26-12-07-13.json',\n",
       " 'PHOTO-2021-07-26-12-07-47.json',\n",
       " 'PHOTO-2021-07-26-12-14-12.json',\n",
       " 'PHOTO-2021-07-26-12-18-46.json',\n",
       " 'PHOTO-2021-07-26-12-19-18.json',\n",
       " 'PHOTO-2021-07-26-12-23-41.json',\n",
       " 'PHOTO-2021-07-26-12-31-45.json',\n",
       " 'PHOTO-2021-07-26-12-35-48.json',\n",
       " 'PHOTO-2021-07-26-12-39-45.json',\n",
       " 'PHOTO-2021-07-26-12-41-45.json',\n",
       " 'PHOTO-2021-07-26-12-42-44.json',\n",
       " 'PHOTO-2021-07-26-12-48-25.json',\n",
       " 'PHOTO-2021-07-26-12-48-43.json',\n",
       " 'PHOTO-2021-07-26-12-58-24.json',\n",
       " 'PHOTO-2021-07-26-13-04-32.json',\n",
       " 'PHOTO-2021-07-26-13-11-30.json',\n",
       " 'PHOTO-2021-07-26-13-13-54.json',\n",
       " 'PHOTO-2021-07-26-13-32-01.json',\n",
       " 'PHOTO-2021-07-26-13-43-23.json',\n",
       " 'PHOTO-2021-07-26-13-48-46.json',\n",
       " 'PHOTO-2021-07-26-14-05-57.json',\n",
       " 'PHOTO-2021-07-26-14-18-48.json',\n",
       " 'PHOTO-2021-07-26-14-24-36.json',\n",
       " 'PHOTO-2021-07-26-14-29-52.json',\n",
       " 'PHOTO-2021-07-26-14-36-34.json',\n",
       " 'PHOTO-2021-07-26-14-40-10.json',\n",
       " 'PHOTO-2021-07-26-14-46-34.json',\n",
       " 'PHOTO-2021-07-26-14-54-25.json',\n",
       " 'PHOTO-2021-07-26-14-54-45.json',\n",
       " 'PHOTO-2021-07-26-15-24-41.json',\n",
       " 'PHOTO-2021-07-26-15-29-25.json',\n",
       " 'PHOTO-2021-07-26-15-35-14.json',\n",
       " 'PHOTO-2021-07-26-15-45-48.json',\n",
       " 'PHOTO-2021-07-26-15-46-03.json',\n",
       " 'PHOTO-2021-07-26-16-04-12.json',\n",
       " 'PHOTO-2021-07-26-16-22-55.json',\n",
       " 'PHOTO-2021-07-27-09-08-56.json',\n",
       " 'PHOTO-2021-07-27-09-18-16.json',\n",
       " 'PHOTO-2021-07-27-09-26-23.json',\n",
       " 'PHOTO-2021-07-27-09-44-48.json',\n",
       " 'PHOTO-2021-07-27-09-45-08.json',\n",
       " 'PHOTO-2021-07-27-10-31-07.json',\n",
       " 'PHOTO-2021-07-27-10-43-21.json',\n",
       " 'PHOTO-2021-07-27-10-48-13.json',\n",
       " 'PHOTO-2021-07-27-10-49-56.json',\n",
       " 'PHOTO-2021-07-27-11-05-00.json',\n",
       " 'PHOTO-2021-07-27-11-24-30.json',\n",
       " 'PHOTO-2021-07-27-11-26-42.json',\n",
       " 'PHOTO-2021-07-27-11-40-20.json',\n",
       " 'PHOTO-2021-07-27-11-41-23.json',\n",
       " 'PHOTO-2021-07-27-12-18-17.json',\n",
       " 'PHOTO-2021-07-27-12-21-45.json',\n",
       " 'PHOTO-2021-07-27-12-34-31.json',\n",
       " 'PHOTO-2021-07-27-12-39-53.json',\n",
       " 'PHOTO-2021-07-28-10-38-24.json',\n",
       " 'PHOTO-2021-07-28-10-40-10.json',\n",
       " 'PHOTO-2021-07-28-11-23-57.json',\n",
       " 'PHOTO-2021-07-28-11-24-49.json',\n",
       " 'PHOTO-2021-07-28-11-38-54.json',\n",
       " 'PHOTO-2021-07-28-11-59-01.json',\n",
       " 'PHOTO-2021-07-28-12-01-27.json']"
      ]
     },
     "execution_count": 8,
     "metadata": {},
     "output_type": "execute_result"
    }
   ],
   "source": [
    "predictions"
   ]
  },
  {
   "cell_type": "code",
   "execution_count": 7,
   "metadata": {},
   "outputs": [],
   "source": [
    "with open(os.path.join(pred_dir,predictions[0])) as file:\n",
    "            data = json.loads(file.read())"
   ]
  },
  {
   "cell_type": "code",
   "execution_count": 9,
   "metadata": {},
   "outputs": [
    {
     "data": {
      "text/plain": [
       "array([(326, 35, 823, 1376)], dtype=object)"
      ]
     },
     "execution_count": 9,
     "metadata": {},
     "output_type": "execute_result"
    }
   ],
   "source": [
    "rack_rows, packets,complete_rack = locator.get_rows_packets_predictions(data)\n"
   ]
  },
  {
   "cell_type": "code",
   "execution_count": 23,
   "metadata": {},
   "outputs": [
    {
     "data": {
      "text/plain": [
       "array([(530, 1460, 628, 1597), (362, 589, 460, 667),\n",
       "       (577, 1150, 675, 1324), (462, 11, 606, 168), (334, 560, 458, 658),\n",
       "       (331, 603, 439, 679), (607, 107, 735, 208), (415, 0, 544, 148),\n",
       "       (552, 617, 661, 675), (550, 820, 628, 894), (413, 1182, 604, 1438),\n",
       "       (524, 1, 721, 221), (378, 799, 525, 962), (463, 277, 562, 395),\n",
       "       (499, 819, 610, 910), (454, 1410, 618, 1599), (379, 0, 486, 148),\n",
       "       (601, 297, 684, 390), (577, 590, 718, 659), (416, 1408, 521, 1582),\n",
       "       (495, 266, 617, 392), (624, 1132, 714, 1324), (565, 772, 667, 882),\n",
       "       (619, 1398, 704, 1511), (520, 1231, 676, 1416),\n",
       "       (366, 1221, 547, 1471), (656, 1363, 747, 1472),\n",
       "       (548, 969, 641, 1134), (337, 805, 486, 997),\n",
       "       (562, 1445, 673, 1554), (318, 274, 526, 488),\n",
       "       (581, 946, 690, 1091), (429, 811, 570, 934), (486, 995, 585, 1179),\n",
       "       (422, 542, 590, 846), (377, 1040, 520, 1230)], dtype=object)"
      ]
     },
     "execution_count": 23,
     "metadata": {},
     "output_type": "execute_result"
    }
   ],
   "source": [
    "packets"
   ]
  },
  {
   "cell_type": "code",
   "execution_count": 11,
   "metadata": {},
   "outputs": [
    {
     "data": {
      "text/plain": [
       "array([(471, 0, 790, 108), (336, 42, 780, 402), (519, 436, 778, 565),\n",
       "       (527, 559, 769, 697), (350, 677, 769, 955), (448, 881, 745, 1217),\n",
       "       (496, 1062, 753, 1499), (546, 1299, 761, 1599)], dtype=object)"
      ]
     },
     "execution_count": 11,
     "metadata": {},
     "output_type": "execute_result"
    }
   ],
   "source": [
    "#sorting the rack rows according to the y coordinates\n",
    "rack_rows = locator.get_sorted_rows(rack_rows)\n",
    "rack_rows"
   ]
  },
  {
   "cell_type": "code",
   "execution_count": 13,
   "metadata": {},
   "outputs": [
    {
     "data": {
      "text/plain": [
       "282.57142857142856"
      ]
     },
     "execution_count": 13,
     "metadata": {},
     "output_type": "execute_result"
    }
   ],
   "source": [
    "average_rackrow_height=locator.get_average_height(rack_rows)\n",
    "average_rackrow_height"
   ]
  },
  {
   "cell_type": "code",
   "execution_count": 14,
   "metadata": {},
   "outputs": [
    {
     "data": {
      "text/plain": [
       "306.5"
      ]
     },
     "execution_count": 14,
     "metadata": {},
     "output_type": "execute_result"
    }
   ],
   "source": [
    "average_rackrow_width=locator.get_average_width(rack_rows)\n",
    "average_rackrow_width"
   ]
  },
  {
   "cell_type": "code",
   "execution_count": 17,
   "metadata": {},
   "outputs": [],
   "source": [
    "imputed_missing_rackrows=locator.find_missing_row_between(rack_rows,average_rackrow_height)"
   ]
  },
  {
   "cell_type": "code",
   "execution_count": 18,
   "metadata": {},
   "outputs": [
    {
     "data": {
      "text/plain": [
       "array([(471, 0, 790, 108), (336, 42, 780, 402), (519, 436, 778, 565),\n",
       "       (527, 559, 769, 697), (350, 677, 769, 955), (448, 881, 745, 1217),\n",
       "       (496, 1062, 753, 1499), (546, 1299, 761, 1599)], dtype=object)"
      ]
     },
     "execution_count": 18,
     "metadata": {},
     "output_type": "execute_result"
    }
   ],
   "source": [
    "#adds missing rackrows to images and sorts them\n",
    "imputed_missing_rackrows"
   ]
  },
  {
   "cell_type": "code",
   "execution_count": 19,
   "metadata": {},
   "outputs": [],
   "source": [
    "def locate_packets(pred_dir, predictions):\n",
    "    \n",
    "    location_dict = {}\n",
    "    for prediction in predictions:\n",
    "        \n",
    "        with open(os.path.join(pred_dir,prediction)) as file:\n",
    "            data = json.loads(file.read())\n",
    "        \n",
    "        updated_packet_positions, rack_rows = find_packet_positions(data)\n",
    "        location_dict[prediction] = [np.array(updated_packet_positions), np.array(rack_rows)]\n",
    " \n",
    "    return location_dict"
   ]
  },
  {
   "cell_type": "code",
   "execution_count": 21,
   "metadata": {},
   "outputs": [],
   "source": [
    "def find_packet_positions(data):\n",
    "    rack_rows, packets, complete_rack = locator.get_rows_packets_predictions(data)\n",
    "    rack_rows = locator.get_sorted_rows(rack_rows)\n",
    "    avg_row_height = locator.get_average_height(rack_rows)\n",
    "    \n",
    "    rack_rows = locator.find_missing_row_between(rack_rows, avg_row_height, \n",
    "                                                 thresholds['missing_row_thresh'],\n",
    "                                                 thresholds['missing_mid_row_thresh'])\n",
    "    \n",
    "    # first_row = locator.find_missing_first_row_modified(rack_rows, avg_row_height, packets, complete_rack,\n",
    "    #                                            thresholds['missing_top_row_packet_overlap_thresh'], \n",
    "    #                                            thresholds['top_row_additional_pixels'], \n",
    "    #                                            thresholds['top_row_additional_thresh_pixels'])\n",
    "    \n",
    "    # if first_row is not None:\n",
    "    #     rack_rows = np.insert(rack_rows, 0, first_row)\n",
    "\n",
    "    # Check which packet is in which row.\n",
    "    packet_positions = locator.check_packet_row(rack_rows, packets, \n",
    "                                                thresholds['packet_row_overlap_thresh'],\n",
    "                                                thresholds['packet_top_row_overlap_thresh'])\n",
    "    \n",
    "    # Fill blank bboxes.\n",
    "    updated_packet_positions = locator.fill_blank_bbox(packets, packet_positions, rack_rows,\n",
    "                                                       thresholds['empty_row_bbox_thresh'],\n",
    "                                                       thresholds['blank_middle_bbox_thresh'],\n",
    "                                                       thresholds['blank_start_bbox_thresh'],\n",
    "                                                       thresholds['blank_end_bbox_thresh'])\n",
    "    \n",
    "    #Find Blank boxes that are overlapping with actual boxes.\n",
    "    overlap_blank = locator.find_overlapping_blank_bbox(updated_packet_positions, packets, \n",
    "                                                        iou_thresh=thresholds['blank_predicted_overlap_iou'])\n",
    "                        \n",
    "    # Remove blank bounding boxes that overlap other boxes.\n",
    "    updated_packet_positions = locator.remove_overlapping_bbox(overlap_blank, updated_packet_positions)\n",
    "    return updated_packet_positions, rack_rows"
   ]
  },
  {
   "cell_type": "code",
   "execution_count": 22,
   "metadata": {},
   "outputs": [
    {
     "ename": "NameError",
     "evalue": "name 'thresholds' is not defined",
     "output_type": "error",
     "traceback": [
      "\u001b[0;31m---------------------------------------------------------------------------\u001b[0m",
      "\u001b[0;31mNameError\u001b[0m                                 Traceback (most recent call last)",
      "\u001b[0;32m<ipython-input-22-255692ce99eb>\u001b[0m in \u001b[0;36m<module>\u001b[0;34m()\u001b[0m\n\u001b[0;32m----> 1\u001b[0;31m \u001b[0mlocation_dict\u001b[0m\u001b[0;34m=\u001b[0m\u001b[0mlocate_packets\u001b[0m\u001b[0;34m(\u001b[0m\u001b[0mpred_dir\u001b[0m\u001b[0;34m,\u001b[0m \u001b[0mpredictions\u001b[0m\u001b[0;34m)\u001b[0m\u001b[0;34m\u001b[0m\u001b[0;34m\u001b[0m\u001b[0m\n\u001b[0m",
      "\u001b[0;32m<ipython-input-19-d4f5d69e957e>\u001b[0m in \u001b[0;36mlocate_packets\u001b[0;34m(pred_dir, predictions)\u001b[0m\n\u001b[1;32m      7\u001b[0m             \u001b[0mdata\u001b[0m \u001b[0;34m=\u001b[0m \u001b[0mjson\u001b[0m\u001b[0;34m.\u001b[0m\u001b[0mloads\u001b[0m\u001b[0;34m(\u001b[0m\u001b[0mfile\u001b[0m\u001b[0;34m.\u001b[0m\u001b[0mread\u001b[0m\u001b[0;34m(\u001b[0m\u001b[0;34m)\u001b[0m\u001b[0;34m)\u001b[0m\u001b[0;34m\u001b[0m\u001b[0;34m\u001b[0m\u001b[0m\n\u001b[1;32m      8\u001b[0m \u001b[0;34m\u001b[0m\u001b[0m\n\u001b[0;32m----> 9\u001b[0;31m         \u001b[0mupdated_packet_positions\u001b[0m\u001b[0;34m,\u001b[0m \u001b[0mrack_rows\u001b[0m \u001b[0;34m=\u001b[0m \u001b[0mfind_packet_positions\u001b[0m\u001b[0;34m(\u001b[0m\u001b[0mdata\u001b[0m\u001b[0;34m)\u001b[0m\u001b[0;34m\u001b[0m\u001b[0;34m\u001b[0m\u001b[0m\n\u001b[0m\u001b[1;32m     10\u001b[0m         \u001b[0mlocation_dict\u001b[0m\u001b[0;34m[\u001b[0m\u001b[0mprediction\u001b[0m\u001b[0;34m]\u001b[0m \u001b[0;34m=\u001b[0m \u001b[0;34m[\u001b[0m\u001b[0mnp\u001b[0m\u001b[0;34m.\u001b[0m\u001b[0marray\u001b[0m\u001b[0;34m(\u001b[0m\u001b[0mupdated_packet_positions\u001b[0m\u001b[0;34m)\u001b[0m\u001b[0;34m,\u001b[0m \u001b[0mnp\u001b[0m\u001b[0;34m.\u001b[0m\u001b[0marray\u001b[0m\u001b[0;34m(\u001b[0m\u001b[0mrack_rows\u001b[0m\u001b[0;34m)\u001b[0m\u001b[0;34m]\u001b[0m\u001b[0;34m\u001b[0m\u001b[0;34m\u001b[0m\u001b[0m\n\u001b[1;32m     11\u001b[0m \u001b[0;34m\u001b[0m\u001b[0m\n",
      "\u001b[0;32m<ipython-input-21-895bc8565cf6>\u001b[0m in \u001b[0;36mfind_packet_positions\u001b[0;34m(data)\u001b[0m\n\u001b[1;32m      5\u001b[0m \u001b[0;34m\u001b[0m\u001b[0m\n\u001b[1;32m      6\u001b[0m     rack_rows = locator.find_missing_row_between(rack_rows, avg_row_height, \n\u001b[0;32m----> 7\u001b[0;31m                                                  \u001b[0mthresholds\u001b[0m\u001b[0;34m[\u001b[0m\u001b[0;34m'missing_row_thresh'\u001b[0m\u001b[0;34m]\u001b[0m\u001b[0;34m,\u001b[0m\u001b[0;34m\u001b[0m\u001b[0;34m\u001b[0m\u001b[0m\n\u001b[0m\u001b[1;32m      8\u001b[0m                                                  thresholds['missing_mid_row_thresh'])\n\u001b[1;32m      9\u001b[0m \u001b[0;34m\u001b[0m\u001b[0m\n",
      "\u001b[0;31mNameError\u001b[0m: name 'thresholds' is not defined"
     ]
    }
   ],
   "source": [
    "location_dict=locate_packets(pred_dir, predictions)"
   ]
  },
  {
   "cell_type": "code",
   "execution_count": 27,
   "metadata": {},
   "outputs": [],
   "source": [
    "def find_missing_first_row_modified(self, rack_rows, avg_row_height, packets, complete_rack, overlap_thresh=0.7, add_pixels=25, thresh_pixels=50):\n",
    "        if (complete_rack[0].get_bbox()[1] + rack_rows[0].get_bbox()[1]) > avg_row_height:\n",
    "            try:\n",
    "                x1 = np.max(np.array([row.get_bbox()[0] for row in rack_rows])) \n",
    "            except Exception as e:\n",
    "                print(\"No rack rows present\")\n",
    "                return None\n",
    "            y1 = rack_rows[0].get_bbox()[1] - avg_row_height\n",
    "            if y1 > thresh_pixels:\n",
    "                y1 = y1 - add_pixels\n",
    "            x2 = np.max(np.array([row.get_bbox()[2] for row in rack_rows]))\n",
    "            y2 = rack_rows[0].get_bbox()[1]\n",
    "            row = Row(x1, y1, x2, y2)\n",
    "            # check if y1 coordinate becoame -ve.\n",
    "            if y1 < 0:\n",
    "                return None\n",
    "            \n",
    "            # check if any packets in this row.\n",
    "            for packet in packets:\n",
    "                box_area = Evaluator._getArea(packet.get_bbox())\n",
    "                intersection_area = Evaluator._getIntersectionArea(row.get_bbox(), packet.get_bbox())\n",
    "                overlap_perc = intersection_area/box_area\n",
    "\n",
    "                if overlap_perc > overlap_thresh:\n",
    "                    return row\n",
    "            return None\n",
    "        else:\n",
    "            return None"
   ]
  },
  {
   "cell_type": "code",
   "execution_count": 28,
   "metadata": {},
   "outputs": [
    {
     "name": "stdout",
     "output_type": "stream",
     "text": [
      "None\n"
     ]
    }
   ],
   "source": [
    "rows=locator.find_missing_first_row_modified(rack_rows,average_rackrow_height,packets,complete_rack)\n",
    "print(rows)"
   ]
  },
  {
   "cell_type": "code",
   "execution_count": 31,
   "metadata": {},
   "outputs": [],
   "source": [
    "def check_packet_row(self, rack_rows, packets, overlap_thresh=0.7, top_overlap_thresh=0.7):\n",
    "        \n",
    "        packet_positions = np.empty((rack_rows.shape[0],), dtype=object)\n",
    "    \n",
    "        for i,v in enumerate(packet_positions): packet_positions[i]=[]\n",
    "\n",
    "        for packet in packets:\n",
    "            row_num = self.packet_overlap(rack_rows, packet, overlap_thresh, top_overlap_thresh)\n",
    "            if row_num != -1:\n",
    "                packet_positions[row_num].append(packet)\n",
    "\n",
    "        packet_positions = self.get_sorted_columns(packet_positions)\n",
    "        \n",
    "        return packet_positions\n",
    "    "
   ]
  },
  {
   "cell_type": "code",
   "execution_count": 33,
   "metadata": {},
   "outputs": [],
   "source": [
    "packet_positions=locator.check_packet_row(rack_rows,packets)"
   ]
  },
  {
   "cell_type": "code",
   "execution_count": null,
   "metadata": {},
   "outputs": [],
   "source": []
  },
  {
   "cell_type": "code",
   "execution_count": 34,
   "metadata": {},
   "outputs": [
    {
     "data": {
      "text/plain": [
       "array([array([], dtype=float64),\n",
       "       array([(379, 0, 486, 148), (415, 0, 544, 148), (462, 11, 606, 168),\n",
       "       (463, 277, 562, 395), (495, 266, 617, 392), (524, 1, 721, 221),\n",
       "       (601, 297, 684, 390), (607, 107, 735, 208)], dtype=object),\n",
       "       array([], dtype=float64),\n",
       "       array([(552, 617, 661, 675), (577, 590, 718, 659)], dtype=object),\n",
       "       array([(337, 805, 486, 997), (378, 799, 525, 962), (429, 811, 570, 934),\n",
       "       (499, 819, 610, 910), (550, 820, 628, 894), (565, 772, 667, 882)],\n",
       "      dtype=object),\n",
       "       array([(486, 995, 585, 1179), (548, 969, 641, 1134),\n",
       "       (581, 946, 690, 1091)], dtype=object),\n",
       "       array([(520, 1231, 676, 1416), (577, 1150, 675, 1324),\n",
       "       (619, 1398, 704, 1511), (624, 1132, 714, 1324),\n",
       "       (656, 1363, 747, 1472)], dtype=object),\n",
       "       array([(530, 1460, 628, 1597), (562, 1445, 673, 1554)], dtype=object)],\n",
       "      dtype=object)"
      ]
     },
     "execution_count": 34,
     "metadata": {},
     "output_type": "execute_result"
    }
   ],
   "source": [
    "packet_positions"
   ]
  },
  {
   "cell_type": "code",
   "execution_count": null,
   "metadata": {},
   "outputs": [],
   "source": []
  },
  {
   "cell_type": "code",
   "execution_count": null,
   "metadata": {},
   "outputs": [],
   "source": []
  }
 ],
 "metadata": {
  "interpreter": {
   "hash": "af5e7f5b7cd6bd337fc27450de06e9c1af0f20be18ca163a8cff6f64704e4cf1"
  },
  "kernelspec": {
   "display_name": "Python 3.6.13 64-bit ('pepsi': conda)",
   "language": "python",
   "name": "python3"
  },
  "language_info": {
   "codemirror_mode": {
    "name": "ipython",
    "version": 3
   },
   "file_extension": ".py",
   "mimetype": "text/x-python",
   "name": "python",
   "nbconvert_exporter": "python",
   "pygments_lexer": "ipython3",
   "version": "3.6.13"
  },
  "orig_nbformat": 4
 },
 "nbformat": 4,
 "nbformat_minor": 2
}
