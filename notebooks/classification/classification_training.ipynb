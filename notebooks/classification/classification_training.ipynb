{
 "cells": [
  {
   "cell_type": "code",
   "execution_count": 1,
   "metadata": {},
   "outputs": [
    {
     "name": "stdout",
     "output_type": "stream",
     "text": [
      "/media/premium/common-biscuit/main/planogram_biscuit/src\n"
     ]
    }
   ],
   "source": [
    "import os\n",
    "import sys\n",
    "module_path = os.path.abspath(os.path.join('../../src/'))\n",
    "if module_path not in sys.path:\n",
    "    sys.path.append(module_path)\n",
    "\n",
    "%cd ../../src"
   ]
  },
  {
   "cell_type": "markdown",
   "metadata": {},
   "source": [
    "# Preprocess"
   ]
  },
  {
   "cell_type": "code",
   "execution_count": 2,
   "metadata": {},
   "outputs": [],
   "source": [
    "from processing.classification_preprocess import PrepareCropImages"
   ]
  },
  {
   "cell_type": "code",
   "execution_count": 3,
   "metadata": {},
   "outputs": [
    {
     "name": "stderr",
     "output_type": "stream",
     "text": [
      "100%|██████████| 1627/1627 [14:53<00:00,  1.82it/s]\n"
     ]
    },
    {
     "name": "stdout",
     "output_type": "stream",
     "text": [
      "Created dummy folder/home/sumit-tyagi/sumit-ssd/common-biscuit/main/planogram_biscuit/data/cropped_images/1108_0threshold_0image_size_74folders/valid/barras_de_coco_paquetin_strip\n",
      "Created dummy folder/home/sumit-tyagi/sumit-ssd/common-biscuit/main/planogram_biscuit/data/cropped_images/1108_0threshold_0image_size_74folders/valid/cremax_de_nieve_chocolate_strip\n",
      "Created dummy folder/home/sumit-tyagi/sumit-ssd/common-biscuit/main/planogram_biscuit/data/cropped_images/1108_0threshold_0image_size_74folders/valid/cremax_de_nieve_fresa_strip\n",
      "Created dummy folder/home/sumit-tyagi/sumit-ssd/common-biscuit/main/planogram_biscuit/data/cropped_images/1108_0threshold_0image_size_74folders/valid/cremax_de_nieve_vainilla_strip\n",
      "Created dummy folder/home/sumit-tyagi/sumit-ssd/common-biscuit/main/planogram_biscuit/data/cropped_images/1108_0threshold_0image_size_74folders/valid/mini_mamut_caddie\n",
      "Created dummy folder/home/sumit-tyagi/sumit-ssd/common-biscuit/main/planogram_biscuit/data/cropped_images/1108_0threshold_0image_size_74folders/valid/galleta_de_avena_moras_yog_gavena_60g\n",
      "Created dummy folder/home/sumit-tyagi/sumit-ssd/common-biscuit/main/planogram_biscuit/data/cropped_images/1108_0threshold_0image_size_74folders/valid/delicias_bolsa_strip\n",
      "Created dummy folder/home/sumit-tyagi/sumit-ssd/common-biscuit/main/planogram_biscuit/data/cropped_images/1108_0threshold_0image_size_74folders/valid/flor_de_naranjo_paquetin_strip\n",
      "Created dummy folder/home/sumit-tyagi/sumit-ssd/common-biscuit/main/planogram_biscuit/data/cropped_images/1108_0threshold_0image_size_74folders/valid/mini_marias_bols_strip\n"
     ]
    }
   ],
   "source": [
    "pi = PrepareCropImages()\n",
    "pi.crop_and_save()"
   ]
  },
  {
   "cell_type": "markdown",
   "metadata": {},
   "source": [
    "# Train"
   ]
  },
  {
   "cell_type": "code",
   "execution_count": 2,
   "metadata": {},
   "outputs": [
    {
     "name": "stderr",
     "output_type": "stream",
     "text": [
      "2021-11-30 16:43:45.471618: I tensorflow/stream_executor/platform/default/dso_loader.cc:49] Successfully opened dynamic library libcudart.so.11.0\n"
     ]
    },
    {
     "name": "stdout",
     "output_type": "stream",
     "text": [
      "Found 85316 images belonging to 46 classes.\n",
      "Found 14094 images belonging to 46 classes.\n"
     ]
    },
    {
     "name": "stderr",
     "output_type": "stream",
     "text": [
      "2021-11-30 16:43:57.820711: I tensorflow/compiler/jit/xla_cpu_device.cc:41] Not creating XLA devices, tf_xla_enable_xla_devices not set\n",
      "2021-11-30 16:43:57.831000: I tensorflow/stream_executor/platform/default/dso_loader.cc:49] Successfully opened dynamic library libcuda.so.1\n",
      "2021-11-30 16:43:57.867664: I tensorflow/core/common_runtime/gpu/gpu_device.cc:1720] Found device 0 with properties: \n",
      "pciBusID: 0001:00:00.0 name: Tesla P100-PCIE-16GB computeCapability: 6.0\n",
      "coreClock: 1.3285GHz coreCount: 56 deviceMemorySize: 15.90GiB deviceMemoryBandwidth: 681.88GiB/s\n",
      "2021-11-30 16:43:57.867691: I tensorflow/stream_executor/platform/default/dso_loader.cc:49] Successfully opened dynamic library libcudart.so.11.0\n",
      "2021-11-30 16:43:57.979274: I tensorflow/stream_executor/platform/default/dso_loader.cc:49] Successfully opened dynamic library libcublas.so.11\n",
      "2021-11-30 16:43:57.979326: I tensorflow/stream_executor/platform/default/dso_loader.cc:49] Successfully opened dynamic library libcublasLt.so.11\n",
      "2021-11-30 16:43:58.051543: I tensorflow/stream_executor/platform/default/dso_loader.cc:49] Successfully opened dynamic library libcufft.so.10\n",
      "2021-11-30 16:43:58.083903: I tensorflow/stream_executor/platform/default/dso_loader.cc:49] Successfully opened dynamic library libcurand.so.10\n",
      "2021-11-30 16:43:58.190328: I tensorflow/stream_executor/platform/default/dso_loader.cc:49] Successfully opened dynamic library libcusolver.so.10\n",
      "2021-11-30 16:43:58.217686: I tensorflow/stream_executor/platform/default/dso_loader.cc:49] Successfully opened dynamic library libcusparse.so.11\n",
      "2021-11-30 16:43:58.227575: I tensorflow/stream_executor/platform/default/dso_loader.cc:49] Successfully opened dynamic library libcudnn.so.8\n",
      "2021-11-30 16:43:58.233798: I tensorflow/core/common_runtime/gpu/gpu_device.cc:1862] Adding visible gpu devices: 0\n",
      "2021-11-30 16:43:58.235067: I tensorflow/compiler/jit/xla_gpu_device.cc:99] Not creating XLA devices, tf_xla_enable_xla_devices not set\n",
      "2021-11-30 16:43:58.235964: I tensorflow/core/common_runtime/gpu/gpu_device.cc:1720] Found device 0 with properties: \n",
      "pciBusID: 0001:00:00.0 name: Tesla P100-PCIE-16GB computeCapability: 6.0\n",
      "coreClock: 1.3285GHz coreCount: 56 deviceMemorySize: 15.90GiB deviceMemoryBandwidth: 681.88GiB/s\n",
      "2021-11-30 16:43:58.235989: I tensorflow/stream_executor/platform/default/dso_loader.cc:49] Successfully opened dynamic library libcudart.so.11.0\n",
      "2021-11-30 16:43:58.236013: I tensorflow/stream_executor/platform/default/dso_loader.cc:49] Successfully opened dynamic library libcublas.so.11\n",
      "2021-11-30 16:43:58.236031: I tensorflow/stream_executor/platform/default/dso_loader.cc:49] Successfully opened dynamic library libcublasLt.so.11\n",
      "2021-11-30 16:43:58.236048: I tensorflow/stream_executor/platform/default/dso_loader.cc:49] Successfully opened dynamic library libcufft.so.10\n",
      "2021-11-30 16:43:58.236064: I tensorflow/stream_executor/platform/default/dso_loader.cc:49] Successfully opened dynamic library libcurand.so.10\n",
      "2021-11-30 16:43:58.236080: I tensorflow/stream_executor/platform/default/dso_loader.cc:49] Successfully opened dynamic library libcusolver.so.10\n",
      "2021-11-30 16:43:58.236096: I tensorflow/stream_executor/platform/default/dso_loader.cc:49] Successfully opened dynamic library libcusparse.so.11\n",
      "2021-11-30 16:43:58.236113: I tensorflow/stream_executor/platform/default/dso_loader.cc:49] Successfully opened dynamic library libcudnn.so.8\n",
      "2021-11-30 16:43:58.237716: I tensorflow/core/common_runtime/gpu/gpu_device.cc:1862] Adding visible gpu devices: 0\n",
      "2021-11-30 16:43:58.242112: I tensorflow/stream_executor/platform/default/dso_loader.cc:49] Successfully opened dynamic library libcudart.so.11.0\n",
      "2021-11-30 16:44:02.985512: I tensorflow/core/common_runtime/gpu/gpu_device.cc:1261] Device interconnect StreamExecutor with strength 1 edge matrix:\n",
      "2021-11-30 16:44:02.985553: I tensorflow/core/common_runtime/gpu/gpu_device.cc:1267]      0 \n",
      "2021-11-30 16:44:02.985562: I tensorflow/core/common_runtime/gpu/gpu_device.cc:1280] 0:   N \n",
      "2021-11-30 16:44:02.996772: I tensorflow/core/common_runtime/gpu/gpu_device.cc:1406] Created TensorFlow device (/job:localhost/replica:0/task:0/device:GPU:0 with 14957 MB memory) -> physical GPU (device: 0, name: Tesla P100-PCIE-16GB, pci bus id: 0001:00:00.0, compute capability: 6.0)\n"
     ]
    },
    {
     "name": "stdout",
     "output_type": "stream",
     "text": [
      "Model: \"sequential\"\n",
      "_________________________________________________________________\n",
      "Layer (type)                 Output Shape              Param #   \n",
      "=================================================================\n",
      "inception_resnet_v2 (Functio (None, 2, 2, 1536)        54336736  \n",
      "_________________________________________________________________\n",
      "flatten (Flatten)            (None, 6144)              0         \n",
      "_________________________________________________________________\n",
      "dense (Dense)                (None, 256)               1573120   \n",
      "_________________________________________________________________\n",
      "dense_1 (Dense)              (None, 46)                11822     \n",
      "=================================================================\n",
      "Total params: 55,921,678\n",
      "Trainable params: 55,860,270\n",
      "Non-trainable params: 61,408\n",
      "_________________________________________________________________\n",
      "None\n"
     ]
    },
    {
     "name": "stderr",
     "output_type": "stream",
     "text": [
      "2021-11-30 16:44:14.128241: I tensorflow/compiler/mlir/mlir_graph_optimization_pass.cc:116] None of the MLIR optimization passes are enabled (registered 2)\n",
      "2021-11-30 16:44:14.143385: I tensorflow/core/platform/profile_utils/cpu_utils.cc:112] CPU Frequency: 2593990000 Hz\n"
     ]
    },
    {
     "name": "stdout",
     "output_type": "stream",
     "text": [
      "Epoch 1/100\n"
     ]
    },
    {
     "name": "stderr",
     "output_type": "stream",
     "text": [
      "2021-11-30 16:44:42.431821: I tensorflow/stream_executor/platform/default/dso_loader.cc:49] Successfully opened dynamic library libcublas.so.11\n",
      "2021-11-30 16:44:44.943670: I tensorflow/stream_executor/platform/default/dso_loader.cc:49] Successfully opened dynamic library libcublasLt.so.11\n",
      "2021-11-30 16:44:45.108926: I tensorflow/stream_executor/platform/default/dso_loader.cc:49] Successfully opened dynamic library libcudnn.so.8\n"
     ]
    },
    {
     "name": "stdout",
     "output_type": "stream",
     "text": [
      "666/666 [==============================] - 651s 902ms/step - loss: 0.8999 - acc: 0.7754 - val_loss: 0.6991 - val_acc: 0.9117\n",
      "Epoch 2/100\n",
      "666/666 [==============================] - 316s 474ms/step - loss: 0.2829 - acc: 0.9289 - val_loss: 1.9376 - val_acc: 0.9306\n",
      "Epoch 3/100\n",
      "666/666 [==============================] - 315s 472ms/step - loss: 0.2182 - acc: 0.9459 - val_loss: 0.6500 - val_acc: 0.9404\n",
      "Epoch 4/100\n",
      "666/666 [==============================] - 315s 473ms/step - loss: 0.1841 - acc: 0.9532 - val_loss: 0.3896 - val_acc: 0.9484\n",
      "Epoch 5/100\n",
      "666/666 [==============================] - 315s 472ms/step - loss: 0.1637 - acc: 0.9584 - val_loss: 1.8021 - val_acc: 0.8634\n",
      "Epoch 6/100\n",
      "666/666 [==============================] - 315s 472ms/step - loss: 0.1474 - acc: 0.9614 - val_loss: 1.0750 - val_acc: 0.9321\n",
      "Epoch 7/100\n",
      "666/666 [==============================] - 314s 472ms/step - loss: 0.1333 - acc: 0.9643 - val_loss: 1.2443 - val_acc: 0.9448\n",
      "\n",
      "Epoch 00007: ReduceLROnPlateau reducing learning rate to 1.9999999494757503e-05.\n",
      "Epoch 8/100\n",
      "666/666 [==============================] - 314s 472ms/step - loss: 0.1028 - acc: 0.9720 - val_loss: 0.3345 - val_acc: 0.9583\n",
      "Epoch 9/100\n",
      "666/666 [==============================] - 315s 472ms/step - loss: 0.0720 - acc: 0.9783 - val_loss: 0.4957 - val_acc: 0.9552\n",
      "Epoch 10/100\n",
      "666/666 [==============================] - 315s 472ms/step - loss: 0.0640 - acc: 0.9806 - val_loss: 0.4272 - val_acc: 0.9569\n",
      "Epoch 11/100\n",
      "666/666 [==============================] - 315s 473ms/step - loss: 0.0620 - acc: 0.9815 - val_loss: 0.5147 - val_acc: 0.9571\n",
      "\n",
      "Epoch 00011: ReduceLROnPlateau reducing learning rate to 1.9999999494757505e-06.\n",
      "Epoch 12/100\n",
      "666/666 [==============================] - 315s 472ms/step - loss: 0.0530 - acc: 0.9832 - val_loss: 0.4405 - val_acc: 0.9576\n",
      "Epoch 13/100\n",
      "666/666 [==============================] - 315s 473ms/step - loss: 0.0537 - acc: 0.9833 - val_loss: 0.4332 - val_acc: 0.9576\n",
      "Epoch 14/100\n",
      "666/666 [==============================] - 315s 472ms/step - loss: 0.0542 - acc: 0.9834 - val_loss: 0.4488 - val_acc: 0.9576\n",
      "\n",
      "Epoch 00014: ReduceLROnPlateau reducing learning rate to 1.9999999949504855e-07.\n",
      "Epoch 15/100\n",
      "666/666 [==============================] - 315s 472ms/step - loss: 0.0534 - acc: 0.9832 - val_loss: 0.4404 - val_acc: 0.9574\n",
      "Epoch 16/100\n",
      "666/666 [==============================] - 315s 472ms/step - loss: 0.0508 - acc: 0.9837 - val_loss: 0.4377 - val_acc: 0.9579\n",
      "Epoch 17/100\n",
      "666/666 [==============================] - 315s 472ms/step - loss: 0.0522 - acc: 0.9839 - val_loss: 0.4393 - val_acc: 0.9576\n",
      "\n",
      "Epoch 00017: ReduceLROnPlateau reducing learning rate to 2.000000023372195e-08.\n",
      "Epoch 18/100\n",
      "666/666 [==============================] - 315s 472ms/step - loss: 0.0499 - acc: 0.9843 - val_loss: 0.4373 - val_acc: 0.9576\n",
      "Epoch 00018: early stopping\n",
      "Training complete\n"
     ]
    },
    {
     "name": "stderr",
     "output_type": "stream",
     "text": [
      "  0%|          | 0/14094 [00:00<?, ?it/s]"
     ]
    }
   ],
   "source": [
    "from models.classification_model_train import ClassificationModel\n",
    "\n",
    "clf = ClassificationModel()\n",
    "\n",
    "clf.train_and_evaluate()"
   ]
  },
  {
   "cell_type": "code",
   "execution_count": null,
   "metadata": {},
   "outputs": [],
   "source": []
  }
 ],
 "metadata": {
  "interpreter": {
   "hash": "25b9123ff11586190a91bd610c7da13b8a4ba7a2696069698074d461acd2db6f"
  },
  "kernelspec": {
   "display_name": "Python 3.8.12 64-bit ('classify': conda)",
   "name": "python3"
  },
  "language_info": {
   "codemirror_mode": {
    "name": "ipython",
    "version": 3
   },
   "file_extension": ".py",
   "mimetype": "text/x-python",
   "name": "python",
   "nbconvert_exporter": "python",
   "pygments_lexer": "ipython3",
   "version": "3.8.12"
  },
  "orig_nbformat": 4
 },
 "nbformat": 4,
 "nbformat_minor": 2
}
