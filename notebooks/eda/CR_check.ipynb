{
 "cells": [
  {
   "cell_type": "code",
   "execution_count": 1,
   "metadata": {},
   "outputs": [],
   "source": [
    "import json\n",
    "import xml.etree.ElementTree as ET\n",
    "from torch._C import dtype\n",
    "import xmltodict\n",
    "import numpy as np\n",
    "import torch\n",
    "from torchvision.ops import box_iou\n",
    "import os\n",
    "from tqdm import tqdm\n",
    "from collections import Counter"
   ]
  },
  {
   "cell_type": "code",
   "execution_count": 2,
   "metadata": {},
   "outputs": [
    {
     "name": "stdout",
     "output_type": "stream",
     "text": [
      "/media/premium/common-biscuit/main/planogram_biscuit\n"
     ]
    }
   ],
   "source": [
    "module_path = os.path.abspath(os.path.join('../../'))\n",
    "if module_path not in sys.path:\n",
    "    sys.path.append(module_path)\n",
    "\n",
    "%cd ../../"
   ]
  },
  {
   "cell_type": "code",
   "execution_count": 3,
   "metadata": {},
   "outputs": [
    {
     "name": "stderr",
     "output_type": "stream",
     "text": [
      "100%|██████████| 1607/1607 [00:01<00:00, 1109.06it/s]\n"
     ]
    }
   ],
   "source": [
    "annotations_folder = \"data/raw/annotations_master/\"\n",
    "samples = os.listdir(annotations_folder)\n",
    "count = 0\n",
    "for sample in tqdm(samples):\n",
    "    input_file = os.path.join(annotations_folder, sample)\n",
    "    try:\n",
    "        tree = ET.parse(input_file)\n",
    "        root_element = tree.getroot()\n",
    "        objs = []\n",
    "        flag = 0\n",
    "        for obj in root_element.findall('object'):\n",
    "            name = obj.find('name').text\n",
    "            if name in ['complete rack', 'Complete Rack']:\n",
    "                flag += 1\n",
    "        if flag >1:\n",
    "           count += 1 \n",
    "    except:\n",
    "        continue"
   ]
  },
  {
   "cell_type": "code",
   "execution_count": 4,
   "metadata": {},
   "outputs": [
    {
     "data": {
      "text/plain": [
       "115"
      ]
     },
     "execution_count": 4,
     "metadata": {},
     "output_type": "execute_result"
    }
   ],
   "source": [
    "count"
   ]
  },
  {
   "cell_type": "code",
   "execution_count": 5,
   "metadata": {},
   "outputs": [
    {
     "data": {
      "text/plain": [
       "1607"
      ]
     },
     "execution_count": 5,
     "metadata": {},
     "output_type": "execute_result"
    }
   ],
   "source": [
    "len(samples)"
   ]
  },
  {
   "cell_type": "code",
   "execution_count": 6,
   "metadata": {},
   "outputs": [
    {
     "data": {
      "text/plain": [
       "0.0715619166148102"
      ]
     },
     "execution_count": 6,
     "metadata": {},
     "output_type": "execute_result"
    }
   ],
   "source": [
    "count/len(samples)"
   ]
  }
 ],
 "metadata": {
  "interpreter": {
   "hash": "b0a17e71cfb66f8415d4593289c0bacfa768b3c5271e5ec471dd4b1ffdc68e6e"
  },
  "kernelspec": {
   "display_name": "Python 3.6.13 64-bit ('pepsi': conda)",
   "language": "python",
   "name": "python3"
  },
  "language_info": {
   "codemirror_mode": {
    "name": "ipython",
    "version": 3
   },
   "file_extension": ".py",
   "mimetype": "text/x-python",
   "name": "python",
   "nbconvert_exporter": "python",
   "pygments_lexer": "ipython3",
   "version": "3.6.13"
  },
  "orig_nbformat": 4
 },
 "nbformat": 4,
 "nbformat_minor": 2
}
