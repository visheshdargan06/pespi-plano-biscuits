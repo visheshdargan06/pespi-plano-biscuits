{
 "cells": [
  {
   "cell_type": "code",
   "execution_count": 9,
   "metadata": {},
   "outputs": [],
   "source": [
    "import json\n",
    "import xml.etree.ElementTree as ET\n",
    "from torch._C import dtype\n",
    "import xmltodict\n",
    "import numpy as np\n",
    "import torch\n",
    "from torchvision.ops import box_iou\n",
    "import os\n",
    "from tqdm import tqdm"
   ]
  },
  {
   "cell_type": "code",
   "execution_count": null,
   "metadata": {},
   "outputs": [],
   "source": [
    "module_path = os.path.abspath(os.path.join('../../'))\n",
    "if module_path not in sys.path:\n",
    "    sys.path.append(module_path)\n",
    "\n",
    "%cd ../../"
   ]
  },
  {
   "cell_type": "code",
   "execution_count": 19,
   "metadata": {},
   "outputs": [],
   "source": [
    "# def remove_cr(pred_row_list, img_height):\n",
    "#     pred_row_list_copy = pred_row_list\n",
    "#     for index, row in enumerate(pred_row_list):\n",
    "#         if (row[3]-row[1])>(img_height/2):\n",
    "#             del pred_row_list_copy[index]\n",
    "#     return pred_row_list_copy\n",
    "\n",
    "def check_missing_row(pred_rows_sorted, truth_rows_sorted, diff_threshold = 60):\n",
    "    if len(pred_rows_sorted) == len(truth_rows_sorted):\n",
    "        return None\n",
    "    else:\n",
    "        if abs(pred_rows_sorted[0][1] - truth_rows_sorted[0][1]) < diff_threshold:\n",
    "            return None\n",
    "        else:\n",
    "            return 1\n",
    "\n",
    "def get_missing_toprow_per_image(pred_file, truth_file):\n",
    "    with open(pred_file) as f:\n",
    "        pred_json = json.load(f)\n",
    "    pred_rows = []\n",
    "    for i in pred_json['row_boxes']:\n",
    "        pred_rows.append([i['x1'], i['y1'], i['x2'], i['y2']])\n",
    "    \n",
    "    truth_rows = []\n",
    "    tree = ET.parse(truth_file)\n",
    "    xml_data = tree.getroot()\n",
    "    #here you can change the encoding type to be able to set it to the one you need\n",
    "    xmlstr = ET.tostring(xml_data, encoding='utf-8', method='xml')\n",
    "\n",
    "    data_dict = dict(xmltodict.parse(xmlstr))\n",
    "    for i in data_dict['annotation']['object']:\n",
    "        if i['name'] in ['rack row', 'rack Row', 'Rack row', 'Rack Row']:\n",
    "            truth_rows.append(list(i['bndbox'].values()))\n",
    "\n",
    "    image_height = data_dict['annotation']['size']['height']\n",
    "\n",
    "    # print(\"Total true boxes: \", len(truth_boxes))\n",
    "    # print(\"Total predicted boxes: \", len(pred_boxes))\n",
    "\n",
    "    pred_rows = np.array(pred_rows).astype('int')\n",
    "    truth_rows = np.array(truth_rows).astype('int')\n",
    "    \n",
    "    pred_rows = torch.from_numpy(pred_rows).float()\n",
    "    truth_rows = torch.from_numpy(truth_rows).float()\n",
    "\n",
    "    pred_rows_sorted = sorted(pred_rows, key=lambda x: x[1])\n",
    "    truth_rows_sorted = sorted(truth_rows, key=lambda x: x[1])\n",
    "\n",
    "    #pred_rows_sorted_cleaned = remove_cr(pred_rows_sorted, image_height)\n",
    "\n",
    "    missing_row = check_missing_row(pred_rows_sorted, truth_rows_sorted)\n",
    "\n",
    "    return missing_row"
   ]
  },
  {
   "cell_type": "code",
   "execution_count": 34,
   "metadata": {},
   "outputs": [],
   "source": [
    "def get_missing_toprow(pred_files_path, truth_files_path):\n",
    "\n",
    "    missing_rows_all = []\n",
    "\n",
    "    for i in tqdm(os.listdir(pred_files_path)):\n",
    "        try:\n",
    "            missing_row  = get_missing_toprow_per_image(pred_files_path+i, truth_files_path+i.split('.')[0]+'.xml')\n",
    "            missing_rows_all.append(missing_row)\n",
    "        except:\n",
    "            continue\n",
    "    return missing_rows_all"
   ]
  },
  {
   "cell_type": "code",
   "execution_count": 87,
   "metadata": {},
   "outputs": [
    {
     "name": "stderr",
     "output_type": "stream",
     "text": [
      "100%|██████████| 157/157 [00:01<00:00, 108.86it/s]\n"
     ]
    }
   ],
   "source": [
    "pred_file = '/media/premium/common-biscuit/main/planogram_biscuit/data/output/image_annotations/rackrow_detection/op_annotations/'\n",
    "truth_file = '/media/premium/common-biscuit/main/planogram_biscuit/data/raw/annotations_master/'\n",
    "missing_rows_all = get_missing_toprow(pred_file, truth_file)\n"
   ]
  },
  {
   "cell_type": "code",
   "execution_count": 88,
   "metadata": {},
   "outputs": [],
   "source": [
    "from collections import Counter\n",
    "missing_row_count = Counter(missing_rows_all)"
   ]
  },
  {
   "cell_type": "code",
   "execution_count": 89,
   "metadata": {},
   "outputs": [],
   "source": [
    "missing_row_count_correct = {}\n",
    "missing_row_count_correct['top_rows'] = missing_row_count[None]\n",
    "missing_row_count_correct['missing_top_rows'] = missing_row_count[1] "
   ]
  },
  {
   "cell_type": "code",
   "execution_count": 90,
   "metadata": {},
   "outputs": [],
   "source": [
    "def show_values(axs, orient=\"v\", space=.01):\n",
    "    def _single(ax):\n",
    "        if orient == \"v\":\n",
    "            for p in ax.patches:\n",
    "                _x = p.get_x() + p.get_width() / 2\n",
    "                _y = p.get_y() + p.get_height() + (p.get_height()*0.01)\n",
    "                value = '{:.1f}'.format(p.get_height())\n",
    "                ax.text(_x, _y, value, ha=\"center\") \n",
    "        elif orient == \"h\":\n",
    "            for p in ax.patches:\n",
    "                _x = p.get_x() + p.get_width() + float(space)\n",
    "                _y = p.get_y() + p.get_height() - (p.get_height()*0.5)\n",
    "                value = '{:.1f}'.format(p.get_width())\n",
    "                ax.text(_x, _y, value, ha=\"left\")\n",
    "\n",
    "    if isinstance(axs, np.ndarray):\n",
    "        for idx, ax in np.ndenumerate(axs):\n",
    "            _single(ax)\n",
    "    else:\n",
    "        _single(axs)"
   ]
  },
  {
   "cell_type": "code",
   "execution_count": 86,
   "metadata": {},
   "outputs": [
    {
     "name": "stdout",
     "output_type": "stream",
     "text": [
      "{'top_rows': 1565, 'missing_top_rows': 34}\n"
     ]
    },
    {
     "data": {
      "image/png": "[encoded data removed]",
      "text/plain": [
       "<Figure size 432x288 with 1 Axes>"
      ]
     },
     "metadata": {
      "needs_background": "light"
     },
     "output_type": "display_data"
    }
   ],
   "source": [
    "import seaborn as sns\n",
    "import matplotlib.pyplot as plt\n",
    "print(missing_row_count_correct)\n",
    "clrs =['#8A8AFF', 'red']\n",
    "\n",
    "keys = list( missing_row_count_correct.keys())\n",
    "values = list(missing_row_count_correct.values())\n",
    "\n",
    "p = sns.barplot(x=keys, y=values,palette=clrs)\n",
    "show_values(p)"
   ]
  },
  {
   "cell_type": "code",
   "execution_count": 91,
   "metadata": {},
   "outputs": [
    {
     "name": "stdout",
     "output_type": "stream",
     "text": [
      "{'top_rows': 147, 'missing_top_rows': 10}\n"
     ]
    },
    {
     "data": {
      "image/png": "[encoded data removed]",
      "text/plain": [
       "<Figure size 432x288 with 1 Axes>"
      ]
     },
     "metadata": {
      "needs_background": "light"
     },
     "output_type": "display_data"
    }
   ],
   "source": [
    "import seaborn as sns\n",
    "import matplotlib.pyplot as plt\n",
    "print(missing_row_count_correct)\n",
    "clrs =['#8A8AFF', 'red']\n",
    "\n",
    "keys = list( missing_row_count_correct.keys())\n",
    "values = list(missing_row_count_correct.values())\n",
    "\n",
    "p = sns.barplot(x=keys, y=values,palette=clrs)\n",
    "show_values(p)"
   ]
  },
  {
   "cell_type": "code",
   "execution_count": null,
   "metadata": {},
   "outputs": [],
   "source": []
  }
 ],
 "metadata": {
  "interpreter": {
   "hash": "b0a17e71cfb66f8415d4593289c0bacfa768b3c5271e5ec471dd4b1ffdc68e6e"
  },
  "kernelspec": {
   "display_name": "Python 3.6.13 64-bit ('pepsi': conda)",
   "language": "python",
   "name": "python3"
  },
  "language_info": {
   "codemirror_mode": {
    "name": "ipython",
    "version": 3
   },
   "file_extension": ".py",
   "mimetype": "text/x-python",
   "name": "python",
   "nbconvert_exporter": "python",
   "pygments_lexer": "ipython3",
   "version": "3.6.13"
  },
  "orig_nbformat": 4
 },
 "nbformat": 4,
 "nbformat_minor": 2
}
