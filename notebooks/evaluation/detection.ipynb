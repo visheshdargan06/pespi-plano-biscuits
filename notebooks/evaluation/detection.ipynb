{
 "cells": [
  {
   "cell_type": "code",
   "execution_count": 1,
   "metadata": {},
   "outputs": [
    {
     "name": "stdout",
     "output_type": "stream",
     "text": [
      "/media/premium/common-biscuit/main/planogram_biscuit/src\n"
     ]
    }
   ],
   "source": [
    "import os\n",
    "import sys\n",
    "module_path = os.path.abspath(os.path.join('../../src/'))\n",
    "if module_path not in sys.path:\n",
    "    sys.path.append(module_path)\n",
    "\n",
    "%cd ../../src"
   ]
  },
  {
   "cell_type": "code",
   "execution_count": 2,
   "metadata": {},
   "outputs": [],
   "source": [
    "from detect_modified import Detect_YOLOv5"
   ]
  },
  {
   "cell_type": "code",
   "execution_count": 3,
   "metadata": {},
   "outputs": [
    {
     "name": "stderr",
     "output_type": "stream",
     "text": [
      "YOLOv5 🚀 2021-10-22 torch 1.10.0+cu102 CUDA:0 (Tesla P100-PCIE-16GB, 16280.875MB)\n",
      "\n"
     ]
    },
    {
     "name": "stdout",
     "output_type": "stream",
     "text": [
      "\u001b[31m\u001b[1mrequirements:\u001b[0m /media/premium/common-biscuit/main/planogram_biscuit/src/requirements.txt not found, check failed.\n"
     ]
    },
    {
     "name": "stderr",
     "output_type": "stream",
     "text": [
      "Fusing layers... \n",
      "/home/vishesh-dargan/.local/lib/python3.6/site-packages/torch/functional.py:445: UserWarning: torch.meshgrid: in an upcoming release, it will be required to pass the indexing argument. (Triggered internally at  ../aten/src/ATen/native/TensorShape.cpp:2157.)\n",
      "  return _VF.meshgrid(tensors, **kwargs)  # type: ignore[attr-defined]\n",
      "Model Summary: 224 layers, 7053910 parameters, 0 gradients, 16.3 GFLOPs\n"
     ]
    },
    {
     "name": "stdout",
     "output_type": "stream",
     "text": [
      "image 1/3 /media/premium/common-biscuit/main/planogram_biscuit/data/packets_dataset/images/test/PHOTO-2021-05-14-09-22-21.jpg: torch.Size([46, 643])\n",
      "640x384 46 packetss, Done. (0.009s)\n",
      "image 2/3 /media/premium/common-biscuit/main/planogram_biscuit/data/packets_dataset/images/test/PHOTO-2021-05-14-09-23-44.jpg: torch.Size([58, 799])\n",
      "640x384 58 packetss, Done. (0.007s)\n",
      "image 3/3 /media/premium/common-biscuit/main/planogram_biscuit/data/packets_dataset/images/test/PHOTO-2021-05-14-09-24-45.jpg: torch.Size([44, 627])\n",
      "640x384 44 packetss, Done. (0.008s)\n",
      "Speed: 0.3ms pre-process, 7.8ms inference, 1.8ms NMS per image at shape (1, 3, 640, 640)\n",
      "Results saved to \u001b[1m../runs/packets/detect/exp14\u001b[0m\n",
      "3 labels saved to ../runs/packets/detect/exp14/labels\n",
      "Avg IOU:  0.0\n"
     ]
    }
   ],
   "source": [
    "import torch\n",
    "import gc\n",
    "gc.collect()\n",
    "torch.cuda.empty_cache()\n",
    "\n",
    "with torch.no_grad():\n",
    "    detect = Detect_YOLOv5(model_type='packets')\n",
    "    output_img = detect.main()\n",
    "    print(\"Avg IOU: \", sum(detect.ious)/len(detect.ious))\n"
   ]
  },
  {
   "cell_type": "code",
   "execution_count": 4,
   "metadata": {},
   "outputs": [
    {
     "name": "stdout",
     "output_type": "stream",
     "text": [
      "[{'image_name': 'PHOTO-2021-05-14-09-22-21.jpg', 'packets': []}, {'image_name': 'PHOTO-2021-05-14-09-23-44.jpg', 'packets': []}, {'image_name': 'PHOTO-2021-05-14-09-24-45.jpg', 'packets': []}]\n"
     ]
    }
   ],
   "source": [
    "print(output_img)"
   ]
  },
  {
   "cell_type": "code",
   "execution_count": 5,
   "metadata": {},
   "outputs": [],
   "source": [
    "# import json\n",
    "# with open(\"/media/premium/common-biscuit/main/src/src/data/yolo_test_json.json\", 'w') as d:\n",
    "#     json.dump(output_img, d)"
   ]
  },
  {
   "cell_type": "code",
   "execution_count": null,
   "metadata": {},
   "outputs": [],
   "source": []
  }
 ],
 "metadata": {
  "interpreter": {
   "hash": "b0a17e71cfb66f8415d4593289c0bacfa768b3c5271e5ec471dd4b1ffdc68e6e"
  },
  "kernelspec": {
   "display_name": "Python 3.6.13 64-bit ('pepsi': conda)",
   "name": "python3"
  },
  "language_info": {
   "codemirror_mode": {
    "name": "ipython",
    "version": 3
   },
   "file_extension": ".py",
   "mimetype": "text/x-python",
   "name": "python",
   "nbconvert_exporter": "python",
   "pygments_lexer": "ipython3",
   "version": "3.6.13"
  },
  "orig_nbformat": 4
 },
 "nbformat": 4,
 "nbformat_minor": 2
}
