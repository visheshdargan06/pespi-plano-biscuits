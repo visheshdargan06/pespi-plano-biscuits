{
 "cells": [
  {
   "cell_type": "code",
   "execution_count": 1,
   "metadata": {},
   "outputs": [
    {
     "name": "stdout",
     "output_type": "stream",
     "text": [
      "/media/premium/common-biscuit/main/planogram_biscuit/src\n"
     ]
    }
   ],
   "source": [
    "import os\n",
    "import sys\n",
    "module_path = os.path.abspath(os.path.join('../../src/'))\n",
    "if module_path not in sys.path:\n",
    "    sys.path.append(module_path)\n",
    "\n",
    "%cd ../../src"
   ]
  },
  {
   "cell_type": "code",
   "execution_count": 2,
   "metadata": {},
   "outputs": [],
   "source": [
    "from detect_modified import Detect_YOLOv5"
   ]
  },
  {
   "cell_type": "code",
   "execution_count": 3,
   "metadata": {},
   "outputs": [
    {
     "name": "stderr",
     "output_type": "stream",
     "text": [
      "YOLOv5 🚀 963a21c torch 1.9.1+cu102 CUDA:0 (Tesla P100-PCIE-16GB, 16280.875MB)\n",
      "\n"
     ]
    },
    {
     "name": "stdout",
     "output_type": "stream",
     "text": [
      "\u001b[31m\u001b[1mrequirements:\u001b[0m /media/premium/common-biscuit/main/planogram_biscuit/src/requirements.txt not found, check failed.\n"
     ]
    },
    {
     "name": "stderr",
     "output_type": "stream",
     "text": [
      "Fusing layers... \n",
      "Model Summary: 224 layers, 7053910 parameters, 0 gradients, 16.3 GFLOPs\n"
     ]
    },
    {
     "name": "stdout",
     "output_type": "stream",
     "text": [
      "image 1/157 /media/premium/common-biscuit/main/planogram_biscuit/data/packets_dataset/images/test/PHOTO-2021-07-20-20-32-07 3.jpg: 640x480 28 packetss, Done. (0.027s)\n",
      "image 2/157 /media/premium/common-biscuit/main/planogram_biscuit/data/packets_dataset/images/test/PHOTO-2021-07-20-20-32-07.jpg: 480x640 119 packetss, Done. (0.040s)\n",
      "image 3/157 /media/premium/common-biscuit/main/planogram_biscuit/data/packets_dataset/images/test/PHOTO-2021-07-21-07-45-43 2.jpg: 640x480 65 packetss, Done. (0.010s)\n",
      "image 4/157 /media/premium/common-biscuit/main/planogram_biscuit/data/packets_dataset/images/test/PHOTO-2021-07-21-07-45-43.jpg: 640x480 31 packetss, Done. (0.016s)\n",
      "image 5/157 /media/premium/common-biscuit/main/planogram_biscuit/data/packets_dataset/images/test/PHOTO-2021-07-21-07-56-20.jpg: 640x480 30 packetss, Done. (0.008s)\n",
      "image 6/157 /media/premium/common-biscuit/main/planogram_biscuit/data/packets_dataset/images/test/PHOTO-2021-07-21-08-05-38 2.jpg: 640x384 130 packetss, Done. (0.020s)\n",
      "image 7/157 /media/premium/common-biscuit/main/planogram_biscuit/data/packets_dataset/images/test/PHOTO-2021-07-21-08-05-38.jpg: 640x384 109 packetss, Done. (0.016s)\n",
      "image 8/157 /media/premium/common-biscuit/main/planogram_biscuit/data/packets_dataset/images/test/PHOTO-2021-07-21-08-13-01.jpg: 640x480 32 packetss, Done. (0.027s)\n",
      "image 9/157 /media/premium/common-biscuit/main/planogram_biscuit/data/packets_dataset/images/test/PHOTO-2021-07-21-08-13-02.jpg: 640x480 52 packetss, Done. (0.011s)\n",
      "image 10/157 /media/premium/common-biscuit/main/planogram_biscuit/data/packets_dataset/images/test/PHOTO-2021-07-21-08-21-00 2.jpg: 640x384 110 packetss, Done. (0.012s)\n",
      "image 11/157 /media/premium/common-biscuit/main/planogram_biscuit/data/packets_dataset/images/test/PHOTO-2021-07-21-08-21-00.jpg: 640x384 90 packetss, Done. (0.011s)\n",
      "image 12/157 /media/premium/common-biscuit/main/planogram_biscuit/data/packets_dataset/images/test/PHOTO-2021-07-21-08-35-00 2.jpg: 640x480 32 packetss, Done. (0.023s)\n",
      "image 13/157 /media/premium/common-biscuit/main/planogram_biscuit/data/packets_dataset/images/test/PHOTO-2021-07-21-08-35-00.jpg: 640x480 16 packetss, Done. (0.020s)\n",
      "image 14/157 /media/premium/common-biscuit/main/planogram_biscuit/data/packets_dataset/images/test/PHOTO-2021-07-21-08-38-26.jpg: 640x384 109 packetss, Done. (0.019s)\n",
      "image 15/157 /media/premium/common-biscuit/main/planogram_biscuit/data/packets_dataset/images/test/PHOTO-2021-07-21-08-59-06.jpg: 640x384 101 packetss, Done. (0.009s)\n",
      "image 16/157 /media/premium/common-biscuit/main/planogram_biscuit/data/packets_dataset/images/test/PHOTO-2021-07-21-09-02-19.jpg: 640x384 134 packetss, Done. (0.011s)\n",
      "image 17/157 /media/premium/common-biscuit/main/planogram_biscuit/data/packets_dataset/images/test/PHOTO-2021-07-21-09-11-07.jpg: 640x480 91 packetss, Done. (0.015s)\n",
      "image 18/157 /media/premium/common-biscuit/main/planogram_biscuit/data/packets_dataset/images/test/PHOTO-2021-07-21-09-17-10 2.jpg: 640x480 99 packetss, Done. (0.016s)\n",
      "image 19/157 /media/premium/common-biscuit/main/planogram_biscuit/data/packets_dataset/images/test/PHOTO-2021-07-21-09-17-10.jpg: 640x480 77 packetss, Done. (0.022s)\n",
      "image 20/157 /media/premium/common-biscuit/main/planogram_biscuit/data/packets_dataset/images/test/PHOTO-2021-07-21-09-19-00.jpg: 640x480 99 packetss, Done. (0.013s)\n",
      "image 21/157 /media/premium/common-biscuit/main/planogram_biscuit/data/packets_dataset/images/test/PHOTO-2021-07-21-09-24-05 2.jpg: 640x480 35 packetss, Done. (0.012s)\n",
      "image 22/157 /media/premium/common-biscuit/main/planogram_biscuit/data/packets_dataset/images/test/PHOTO-2021-07-21-09-43-14.jpg: 640x384 142 packetss, Done. (0.009s)\n",
      "image 23/157 /media/premium/common-biscuit/main/planogram_biscuit/data/packets_dataset/images/test/PHOTO-2021-07-21-09-57-52.jpg: 640x480 111 packetss, Done. (0.029s)\n",
      "image 24/157 /media/premium/common-biscuit/main/planogram_biscuit/data/packets_dataset/images/test/PHOTO-2021-07-21-09-58-17.jpg: 640x480 123 packetss, Done. (0.008s)\n",
      "image 25/157 /media/premium/common-biscuit/main/planogram_biscuit/data/packets_dataset/images/test/PHOTO-2021-07-21-10-32-47.jpg: 640x480 47 packetss, Done. (0.024s)\n",
      "image 26/157 /media/premium/common-biscuit/main/planogram_biscuit/data/packets_dataset/images/test/PHOTO-2021-07-21-10-43-25.jpg: 640x480 42 packetss, Done. (0.018s)\n",
      "image 27/157 /media/premium/common-biscuit/main/planogram_biscuit/data/packets_dataset/images/test/PHOTO-2021-07-21-10-43-46.jpg: 640x480 45 packetss, Done. (0.016s)\n",
      "image 28/157 /media/premium/common-biscuit/main/planogram_biscuit/data/packets_dataset/images/test/PHOTO-2021-07-21-10-52-44.jpg: 640x384 79 packetss, Done. (0.032s)\n",
      "image 29/157 /media/premium/common-biscuit/main/planogram_biscuit/data/packets_dataset/images/test/PHOTO-2021-07-21-10-55-27.jpg: 640x384 105 packetss, Done. (0.011s)\n",
      "image 30/157 /media/premium/common-biscuit/main/planogram_biscuit/data/packets_dataset/images/test/PHOTO-2021-07-21-10-55-57.jpg: 640x480 59 packetss, Done. (0.025s)\n",
      "image 31/157 /media/premium/common-biscuit/main/planogram_biscuit/data/packets_dataset/images/test/PHOTO-2021-07-21-10-56-07.jpg: 640x480 79 packetss, Done. (0.014s)\n",
      "image 32/157 /media/premium/common-biscuit/main/planogram_biscuit/data/packets_dataset/images/test/PHOTO-2021-07-21-11-00-19.jpg: 640x480 20 packetss, Done. (0.013s)\n",
      "image 33/157 /media/premium/common-biscuit/main/planogram_biscuit/data/packets_dataset/images/test/PHOTO-2021-07-21-11-00-20.jpg: 640x480 22 packetss, Done. (0.015s)\n",
      "image 34/157 /media/premium/common-biscuit/main/planogram_biscuit/data/packets_dataset/images/test/PHOTO-2021-07-21-11-11-49.jpg: 640x480 85 packetss, Done. (0.008s)\n",
      "image 35/157 /media/premium/common-biscuit/main/planogram_biscuit/data/packets_dataset/images/test/PHOTO-2021-07-21-11-12-09.jpg: 640x480 114 packetss, Done. (0.013s)\n",
      "image 36/157 /media/premium/common-biscuit/main/planogram_biscuit/data/packets_dataset/images/test/PHOTO-2021-07-21-11-12-42 2.jpg: 640x384 46 packetss, Done. (0.010s)\n",
      "image 37/157 /media/premium/common-biscuit/main/planogram_biscuit/data/packets_dataset/images/test/PHOTO-2021-07-21-11-12-42.jpg: 640x384 40 packetss, Done. (0.011s)\n",
      "image 38/157 /media/premium/common-biscuit/main/planogram_biscuit/data/packets_dataset/images/test/PHOTO-2021-07-21-11-13-15.jpg: 640x384 48 packetss, Done. (0.009s)\n",
      "image 39/157 /media/premium/common-biscuit/main/planogram_biscuit/data/packets_dataset/images/test/PHOTO-2021-07-21-14-21-14.jpg: 640x384 123 packetss, Done. (0.013s)\n",
      "image 40/157 /media/premium/common-biscuit/main/planogram_biscuit/data/packets_dataset/images/test/PHOTO-2021-07-22-08-11-50.jpg: 640x480 72 packetss, Done. (0.027s)\n",
      "image 41/157 /media/premium/common-biscuit/main/planogram_biscuit/data/packets_dataset/images/test/PHOTO-2021-07-22-08-12-16.jpg: 640x480 147 packetss, Done. (0.012s)\n",
      "image 42/157 /media/premium/common-biscuit/main/planogram_biscuit/data/packets_dataset/images/test/PHOTO-2021-07-22-08-18-44.jpg: 640x384 41 packetss, Done. (0.022s)\n",
      "image 43/157 /media/premium/common-biscuit/main/planogram_biscuit/data/packets_dataset/images/test/PHOTO-2021-07-22-08-29-32.jpg: 640x384 38 packetss, Done. (0.013s)\n",
      "image 44/157 /media/premium/common-biscuit/main/planogram_biscuit/data/packets_dataset/images/test/PHOTO-2021-07-22-08-41-49 2.jpg: 640x480 46 packetss, Done. (0.026s)\n",
      "image 45/157 /media/premium/common-biscuit/main/planogram_biscuit/data/packets_dataset/images/test/PHOTO-2021-07-24-11-55-40.jpg: 640x384 114 packetss, Done. (0.027s)\n",
      "image 46/157 /media/premium/common-biscuit/main/planogram_biscuit/data/packets_dataset/images/test/PHOTO-2021-07-24-12-00-38.jpg: 640x384 28 packetss, Done. (0.010s)\n",
      "image 47/157 /media/premium/common-biscuit/main/planogram_biscuit/data/packets_dataset/images/test/PHOTO-2021-07-24-12-38-38.jpg: 640x480 142 packetss, Done. (0.032s)\n",
      "image 48/157 /media/premium/common-biscuit/main/planogram_biscuit/data/packets_dataset/images/test/PHOTO-2021-07-24-12-39-01.jpg: 640x480 141 packetss, Done. (0.016s)\n",
      "image 49/157 /media/premium/common-biscuit/main/planogram_biscuit/data/packets_dataset/images/test/PHOTO-2021-07-24-12-39-48.jpg: 640x384 27 packetss, Done. (0.027s)\n",
      "image 50/157 /media/premium/common-biscuit/main/planogram_biscuit/data/packets_dataset/images/test/PHOTO-2021-07-24-12-47-31.jpg: 640x384 32 packetss, Done. (0.012s)\n",
      "image 51/157 /media/premium/common-biscuit/main/planogram_biscuit/data/packets_dataset/images/test/PHOTO-2021-07-24-12-51-47.jpg: 640x384 88 packetss, Done. (0.013s)\n",
      "image 52/157 /media/premium/common-biscuit/main/planogram_biscuit/data/packets_dataset/images/test/PHOTO-2021-07-24-13-16-37.jpg: 640x384 133 packetss, Done. (0.009s)\n",
      "image 53/157 /media/premium/common-biscuit/main/planogram_biscuit/data/packets_dataset/images/test/PHOTO-2021-07-24-13-20-31.jpg: 640x384 82 packetss, Done. (0.008s)\n",
      "image 54/157 /media/premium/common-biscuit/main/planogram_biscuit/data/packets_dataset/images/test/PHOTO-2021-07-24-13-25-21.jpg: 640x480 81 packetss, Done. (0.027s)\n",
      "image 55/157 /media/premium/common-biscuit/main/planogram_biscuit/data/packets_dataset/images/test/PHOTO-2021-07-24-13-27-25.jpg: 640x384 100 packetss, Done. (0.012s)\n",
      "image 56/157 /media/premium/common-biscuit/main/planogram_biscuit/data/packets_dataset/images/test/PHOTO-2021-07-24-14-08-36.jpg: 640x384 100 packetss, Done. (0.014s)\n",
      "image 57/157 /media/premium/common-biscuit/main/planogram_biscuit/data/packets_dataset/images/test/PHOTO-2021-07-24-14-26-10.jpg: 640x384 87 packetss, Done. (0.032s)\n",
      "image 58/157 /media/premium/common-biscuit/main/planogram_biscuit/data/packets_dataset/images/test/PHOTO-2021-07-24-14-35-14.jpg: 640x384 87 packetss, Done. (0.008s)\n",
      "image 59/157 /media/premium/common-biscuit/main/planogram_biscuit/data/packets_dataset/images/test/PHOTO-2021-07-24-14-43-18.jpg: 640x384 60 packetss, Done. (0.008s)\n",
      "image 60/157 /media/premium/common-biscuit/main/planogram_biscuit/data/packets_dataset/images/test/PHOTO-2021-07-24-14-55-04.jpg: 640x384 72 packetss, Done. (0.013s)\n",
      "image 61/157 /media/premium/common-biscuit/main/planogram_biscuit/data/packets_dataset/images/test/PHOTO-2021-07-24-14-58-11.jpg: 640x384 30 packetss, Done. (0.008s)\n",
      "image 62/157 /media/premium/common-biscuit/main/planogram_biscuit/data/packets_dataset/images/test/PHOTO-2021-07-24-15-11-20.jpg: 640x384 40 packetss, Done. (0.013s)\n",
      "image 63/157 /media/premium/common-biscuit/main/planogram_biscuit/data/packets_dataset/images/test/PHOTO-2021-07-24-15-11-31.jpg: 640x384 123 packetss, Done. (0.008s)\n",
      "image 64/157 /media/premium/common-biscuit/main/planogram_biscuit/data/packets_dataset/images/test/PHOTO-2021-07-24-15-30-52.jpg: 640x384 5 packetss, Done. (0.013s)\n",
      "image 65/157 /media/premium/common-biscuit/main/planogram_biscuit/data/packets_dataset/images/test/PHOTO-2021-07-24-15-46-21.jpg: 640x384 109 packetss, Done. (0.008s)\n",
      "image 66/157 /media/premium/common-biscuit/main/planogram_biscuit/data/packets_dataset/images/test/PHOTO-2021-07-24-15-59-59.jpg: 640x384 54 packetss, Done. (0.013s)\n",
      "image 67/157 /media/premium/common-biscuit/main/planogram_biscuit/data/packets_dataset/images/test/PHOTO-2021-07-26-08-42-47 2.jpg: 640x480 123 packetss, Done. (0.009s)\n",
      "image 68/157 /media/premium/common-biscuit/main/planogram_biscuit/data/packets_dataset/images/test/PHOTO-2021-07-26-08-51-09.jpg: 640x480 83 packetss, Done. (0.008s)\n",
      "image 69/157 /media/premium/common-biscuit/main/planogram_biscuit/data/packets_dataset/images/test/PHOTO-2021-07-26-09-05-38.jpg: 640x480 60 packetss, Done. (0.016s)\n",
      "image 70/157 /media/premium/common-biscuit/main/planogram_biscuit/data/packets_dataset/images/test/PHOTO-2021-07-26-09-05-50.jpg: 640x480 104 packetss, Done. (0.008s)\n",
      "image 71/157 /media/premium/common-biscuit/main/planogram_biscuit/data/packets_dataset/images/test/PHOTO-2021-07-26-09-31-57.jpg: 640x384 133 packetss, Done. (0.015s)\n",
      "image 72/157 /media/premium/common-biscuit/main/planogram_biscuit/data/packets_dataset/images/test/PHOTO-2021-07-26-09-43-35.jpg: 640x480 80 packetss, Done. (0.021s)\n",
      "image 73/157 /media/premium/common-biscuit/main/planogram_biscuit/data/packets_dataset/images/test/PHOTO-2021-07-26-09-43-37.jpg: 640x480 Done. (0.008s)\n",
      "image 74/157 /media/premium/common-biscuit/main/planogram_biscuit/data/packets_dataset/images/test/PHOTO-2021-07-26-09-43-38.jpg: 640x480 91 packetss, Done. (0.008s)\n",
      "image 75/157 /media/premium/common-biscuit/main/planogram_biscuit/data/packets_dataset/images/test/PHOTO-2021-07-26-09-53-35.jpg: 640x384 25 packetss, Done. (0.008s)\n",
      "image 76/157 /media/premium/common-biscuit/main/planogram_biscuit/data/packets_dataset/images/test/PHOTO-2021-07-26-09-55-51.jpg: 640x384 35 packetss, Done. (0.008s)\n",
      "image 77/157 /media/premium/common-biscuit/main/planogram_biscuit/data/packets_dataset/images/test/PHOTO-2021-07-26-10-02-55.jpg: 640x384 21 packetss, Done. (0.008s)\n",
      "image 78/157 /media/premium/common-biscuit/main/planogram_biscuit/data/packets_dataset/images/test/PHOTO-2021-07-26-10-13-48.jpg: 640x480 88 packetss, Done. (0.008s)\n",
      "image 79/157 /media/premium/common-biscuit/main/planogram_biscuit/data/packets_dataset/images/test/PHOTO-2021-07-26-10-14-14.jpg: 640x480 95 packetss, Done. (0.008s)\n",
      "image 80/157 /media/premium/common-biscuit/main/planogram_biscuit/data/packets_dataset/images/test/PHOTO-2021-07-26-10-28-47.jpg: 640x384 10 packetss, Done. (0.024s)\n",
      "image 81/157 /media/premium/common-biscuit/main/planogram_biscuit/data/packets_dataset/images/test/PHOTO-2021-07-26-10-31-39.jpg: 640x480 12 packetss, Done. (0.022s)\n",
      "image 82/157 /media/premium/common-biscuit/main/planogram_biscuit/data/packets_dataset/images/test/PHOTO-2021-07-26-10-32-30.jpg: 640x480 24 packetss, Done. (0.013s)\n",
      "image 83/157 /media/premium/common-biscuit/main/planogram_biscuit/data/packets_dataset/images/test/PHOTO-2021-07-26-10-41-29.jpg: 640x384 30 packetss, Done. (0.010s)\n",
      "image 84/157 /media/premium/common-biscuit/main/planogram_biscuit/data/packets_dataset/images/test/PHOTO-2021-07-26-10-44-58.jpg: 640x384 41 packetss, Done. (0.011s)\n",
      "image 85/157 /media/premium/common-biscuit/main/planogram_biscuit/data/packets_dataset/images/test/PHOTO-2021-07-26-10-52-53.jpg: 640x384 39 packetss, Done. (0.013s)\n",
      "image 86/157 /media/premium/common-biscuit/main/planogram_biscuit/data/packets_dataset/images/test/PHOTO-2021-07-26-10-53-08.jpg: 640x480 25 packetss, Done. (0.022s)\n",
      "image 87/157 /media/premium/common-biscuit/main/planogram_biscuit/data/packets_dataset/images/test/PHOTO-2021-07-26-10-53-36.jpg: 640x480 34 packetss, Done. (0.016s)\n",
      "image 88/157 /media/premium/common-biscuit/main/planogram_biscuit/data/packets_dataset/images/test/PHOTO-2021-07-26-11-14-31.jpg: 640x384 38 packetss, Done. (0.021s)\n",
      "image 89/157 /media/premium/common-biscuit/main/planogram_biscuit/data/packets_dataset/images/test/PHOTO-2021-07-26-11-24-03.jpg: 640x384 71 packetss, Done. (0.008s)\n",
      "image 90/157 /media/premium/common-biscuit/main/planogram_biscuit/data/packets_dataset/images/test/PHOTO-2021-07-26-11-31-09.jpg: 640x384 102 packetss, Done. (0.011s)\n",
      "image 91/157 /media/premium/common-biscuit/main/planogram_biscuit/data/packets_dataset/images/test/PHOTO-2021-07-26-11-35-06.jpg: 640x480 24 packetss, Done. (0.021s)\n",
      "image 92/157 /media/premium/common-biscuit/main/planogram_biscuit/data/packets_dataset/images/test/PHOTO-2021-07-26-11-44-05.jpg: 640x384 37 packetss, Done. (0.027s)\n",
      "image 93/157 /media/premium/common-biscuit/main/planogram_biscuit/data/packets_dataset/images/test/PHOTO-2021-07-26-11-46-15.jpg: 640x384 40 packetss, Done. (0.011s)\n",
      "image 94/157 /media/premium/common-biscuit/main/planogram_biscuit/data/packets_dataset/images/test/PHOTO-2021-07-26-11-58-48.jpg: 640x480 43 packetss, Done. (0.027s)\n",
      "image 95/157 /media/premium/common-biscuit/main/planogram_biscuit/data/packets_dataset/images/test/PHOTO-2021-07-26-11-59-11.jpg: 640x480 44 packetss, Done. (0.019s)\n",
      "image 96/157 /media/premium/common-biscuit/main/planogram_biscuit/data/packets_dataset/images/test/PHOTO-2021-07-26-11-59-27.jpg: 640x384 47 packetss, Done. (0.025s)\n",
      "image 97/157 /media/premium/common-biscuit/main/planogram_biscuit/data/packets_dataset/images/test/PHOTO-2021-07-26-12-07-13.jpg: 640x384 79 packetss, Done. (0.013s)\n",
      "image 98/157 /media/premium/common-biscuit/main/planogram_biscuit/data/packets_dataset/images/test/PHOTO-2021-07-26-12-07-47.jpg: 640x384 50 packetss, Done. (0.021s)\n",
      "image 99/157 /media/premium/common-biscuit/main/planogram_biscuit/data/packets_dataset/images/test/PHOTO-2021-07-26-12-14-12.jpg: 640x384 53 packetss, Done. (0.022s)\n",
      "image 100/157 /media/premium/common-biscuit/main/planogram_biscuit/data/packets_dataset/images/test/PHOTO-2021-07-26-12-18-46.jpg: 640x384 100 packetss, Done. (0.010s)\n",
      "image 101/157 /media/premium/common-biscuit/main/planogram_biscuit/data/packets_dataset/images/test/PHOTO-2021-07-26-12-19-18.jpg: 640x384 55 packetss, Done. (0.011s)\n",
      "image 102/157 /media/premium/common-biscuit/main/planogram_biscuit/data/packets_dataset/images/test/PHOTO-2021-07-26-12-23-41.jpg: 640x384 76 packetss, Done. (0.022s)\n",
      "image 103/157 /media/premium/common-biscuit/main/planogram_biscuit/data/packets_dataset/images/test/PHOTO-2021-07-26-12-31-45.jpg: 640x384 77 packetss, Done. (0.013s)\n",
      "image 104/157 /media/premium/common-biscuit/main/planogram_biscuit/data/packets_dataset/images/test/PHOTO-2021-07-26-12-35-48.jpg: 640x384 61 packetss, Done. (0.013s)\n",
      "image 105/157 /media/premium/common-biscuit/main/planogram_biscuit/data/packets_dataset/images/test/PHOTO-2021-07-26-12-39-45.jpg: 640x384 16 packetss, Done. (0.014s)\n",
      "image 106/157 /media/premium/common-biscuit/main/planogram_biscuit/data/packets_dataset/images/test/PHOTO-2021-07-26-12-41-45.jpg: 640x384 21 packetss, Done. (0.010s)\n",
      "image 107/157 /media/premium/common-biscuit/main/planogram_biscuit/data/packets_dataset/images/test/PHOTO-2021-07-26-12-42-44.jpg: 640x384 56 packetss, Done. (0.013s)\n",
      "image 108/157 /media/premium/common-biscuit/main/planogram_biscuit/data/packets_dataset/images/test/PHOTO-2021-07-26-12-48-25.jpg: 640x480 48 packetss, Done. (0.022s)\n",
      "image 109/157 /media/premium/common-biscuit/main/planogram_biscuit/data/packets_dataset/images/test/PHOTO-2021-07-26-12-48-43.jpg: 640x480 74 packetss, Done. (0.016s)\n",
      "image 110/157 /media/premium/common-biscuit/main/planogram_biscuit/data/packets_dataset/images/test/PHOTO-2021-07-26-12-58-24.jpg: 640x384 85 packetss, Done. (0.024s)\n",
      "image 111/157 /media/premium/common-biscuit/main/planogram_biscuit/data/packets_dataset/images/test/PHOTO-2021-07-26-13-04-32.jpg: 640x384 84 packetss, Done. (0.008s)\n",
      "image 112/157 /media/premium/common-biscuit/main/planogram_biscuit/data/packets_dataset/images/test/PHOTO-2021-07-26-13-11-30.jpg: 640x384 40 packetss, Done. (0.010s)\n",
      "image 113/157 /media/premium/common-biscuit/main/planogram_biscuit/data/packets_dataset/images/test/PHOTO-2021-07-26-13-13-54.jpg: 640x384 23 packetss, Done. (0.012s)\n",
      "image 114/157 /media/premium/common-biscuit/main/planogram_biscuit/data/packets_dataset/images/test/PHOTO-2021-07-26-13-32-01.jpg: 640x384 100 packetss, Done. (0.013s)\n",
      "image 115/157 /media/premium/common-biscuit/main/planogram_biscuit/data/packets_dataset/images/test/PHOTO-2021-07-26-13-43-23.jpg: 640x384 109 packetss, Done. (0.010s)\n",
      "image 116/157 /media/premium/common-biscuit/main/planogram_biscuit/data/packets_dataset/images/test/PHOTO-2021-07-26-13-48-46.jpg: 640x384 74 packetss, Done. (0.008s)\n",
      "image 117/157 /media/premium/common-biscuit/main/planogram_biscuit/data/packets_dataset/images/test/PHOTO-2021-07-26-14-05-57.jpg: 640x384 8 packetss, Done. (0.008s)\n",
      "image 118/157 /media/premium/common-biscuit/main/planogram_biscuit/data/packets_dataset/images/test/PHOTO-2021-07-26-14-18-48.jpg: 640x384 26 packetss, Done. (0.012s)\n",
      "image 119/157 /media/premium/common-biscuit/main/planogram_biscuit/data/packets_dataset/images/test/PHOTO-2021-07-26-14-24-36.jpg: 640x384 109 packetss, Done. (0.008s)\n",
      "image 120/157 /media/premium/common-biscuit/main/planogram_biscuit/data/packets_dataset/images/test/PHOTO-2021-07-26-14-29-52.jpg: 640x384 116 packetss, Done. (0.011s)\n",
      "image 121/157 /media/premium/common-biscuit/main/planogram_biscuit/data/packets_dataset/images/test/PHOTO-2021-07-26-14-36-34.jpg: 640x384 60 packetss, Done. (0.008s)\n",
      "image 122/157 /media/premium/common-biscuit/main/planogram_biscuit/data/packets_dataset/images/test/PHOTO-2021-07-26-14-40-10.jpg: 640x384 109 packetss, Done. (0.012s)\n",
      "image 123/157 /media/premium/common-biscuit/main/planogram_biscuit/data/packets_dataset/images/test/PHOTO-2021-07-26-14-46-34.jpg: 640x480 119 packetss, Done. (0.025s)\n",
      "image 124/157 /media/premium/common-biscuit/main/planogram_biscuit/data/packets_dataset/images/test/PHOTO-2021-07-26-14-54-25.jpg: 640x480 38 packetss, Done. (0.016s)\n",
      "image 125/157 /media/premium/common-biscuit/main/planogram_biscuit/data/packets_dataset/images/test/PHOTO-2021-07-26-14-54-45.jpg: 640x480 45 packetss, Done. (0.009s)\n",
      "image 126/157 /media/premium/common-biscuit/main/planogram_biscuit/data/packets_dataset/images/test/PHOTO-2021-07-26-15-24-41.jpg: 640x384 53 packetss, Done. (0.022s)\n",
      "image 127/157 /media/premium/common-biscuit/main/planogram_biscuit/data/packets_dataset/images/test/PHOTO-2021-07-26-15-29-25.jpg: 640x384 40 packetss, Done. (0.022s)\n",
      "image 128/157 /media/premium/common-biscuit/main/planogram_biscuit/data/packets_dataset/images/test/PHOTO-2021-07-26-15-35-14.jpg: 640x384 43 packetss, Done. (0.013s)\n",
      "image 129/157 /media/premium/common-biscuit/main/planogram_biscuit/data/packets_dataset/images/test/PHOTO-2021-07-26-15-45-48.jpg: 640x384 28 packetss, Done. (0.011s)\n",
      "image 130/157 /media/premium/common-biscuit/main/planogram_biscuit/data/packets_dataset/images/test/PHOTO-2021-07-26-15-46-03.jpg: 640x384 48 packetss, Done. (0.012s)\n",
      "image 131/157 /media/premium/common-biscuit/main/planogram_biscuit/data/packets_dataset/images/test/PHOTO-2021-07-26-16-04-12.jpg: 640x384 25 packetss, Done. (0.026s)\n",
      "image 132/157 /media/premium/common-biscuit/main/planogram_biscuit/data/packets_dataset/images/test/PHOTO-2021-07-26-16-22-55.jpg: 640x384 95 packetss, Done. (0.017s)\n",
      "image 133/157 /media/premium/common-biscuit/main/planogram_biscuit/data/packets_dataset/images/test/PHOTO-2021-07-27-09-08-56.jpg: 640x384 112 packetss, Done. (0.012s)\n",
      "image 134/157 /media/premium/common-biscuit/main/planogram_biscuit/data/packets_dataset/images/test/PHOTO-2021-07-27-09-18-16.jpg: 640x384 119 packetss, Done. (0.010s)\n",
      "image 135/157 /media/premium/common-biscuit/main/planogram_biscuit/data/packets_dataset/images/test/PHOTO-2021-07-27-09-26-23.jpg: 640x384 41 packetss, Done. (0.012s)\n",
      "image 136/157 /media/premium/common-biscuit/main/planogram_biscuit/data/packets_dataset/images/test/PHOTO-2021-07-27-09-44-48.jpg: 640x480 107 packetss, Done. (0.032s)\n",
      "image 137/157 /media/premium/common-biscuit/main/planogram_biscuit/data/packets_dataset/images/test/PHOTO-2021-07-27-09-45-08.jpg: 640x480 122 packetss, Done. (0.025s)\n",
      "image 138/157 /media/premium/common-biscuit/main/planogram_biscuit/data/packets_dataset/images/test/PHOTO-2021-07-27-10-31-07.jpg: 640x480 98 packetss, Done. (0.014s)\n",
      "image 139/157 /media/premium/common-biscuit/main/planogram_biscuit/data/packets_dataset/images/test/PHOTO-2021-07-27-10-43-21.jpg: 640x384 41 packetss, Done. (0.021s)\n",
      "image 140/157 /media/premium/common-biscuit/main/planogram_biscuit/data/packets_dataset/images/test/PHOTO-2021-07-27-10-48-13.jpg: 640x480 40 packetss, Done. (0.027s)\n",
      "image 141/157 /media/premium/common-biscuit/main/planogram_biscuit/data/packets_dataset/images/test/PHOTO-2021-07-27-10-49-56.jpg: 640x384 42 packetss, Done. (0.022s)\n",
      "image 142/157 /media/premium/common-biscuit/main/planogram_biscuit/data/packets_dataset/images/test/PHOTO-2021-07-27-11-05-00.jpg: 640x384 43 packetss, Done. (0.013s)\n",
      "image 143/157 /media/premium/common-biscuit/main/planogram_biscuit/data/packets_dataset/images/test/PHOTO-2021-07-27-11-24-30.jpg: 640x384 40 packetss, Done. (0.012s)\n",
      "image 144/157 /media/premium/common-biscuit/main/planogram_biscuit/data/packets_dataset/images/test/PHOTO-2021-07-27-11-26-42.jpg: 640x384 91 packetss, Done. (0.011s)\n",
      "image 145/157 /media/premium/common-biscuit/main/planogram_biscuit/data/packets_dataset/images/test/PHOTO-2021-07-27-11-40-20.jpg: 640x480 75 packetss, Done. (0.023s)\n",
      "image 146/157 /media/premium/common-biscuit/main/planogram_biscuit/data/packets_dataset/images/test/PHOTO-2021-07-27-11-41-23.jpg: 640x384 89 packetss, Done. (0.019s)\n",
      "image 147/157 /media/premium/common-biscuit/main/planogram_biscuit/data/packets_dataset/images/test/PHOTO-2021-07-27-12-18-17.jpg: 640x384 113 packetss, Done. (0.012s)\n",
      "image 148/157 /media/premium/common-biscuit/main/planogram_biscuit/data/packets_dataset/images/test/PHOTO-2021-07-27-12-21-45.jpg: 640x384 80 packetss, Done. (0.012s)\n",
      "image 149/157 /media/premium/common-biscuit/main/planogram_biscuit/data/packets_dataset/images/test/PHOTO-2021-07-27-12-34-31.jpg: 640x384 104 packetss, Done. (0.011s)\n",
      "image 150/157 /media/premium/common-biscuit/main/planogram_biscuit/data/packets_dataset/images/test/PHOTO-2021-07-27-12-39-53.jpg: 640x384 39 packetss, Done. (0.013s)\n",
      "image 151/157 /media/premium/common-biscuit/main/planogram_biscuit/data/packets_dataset/images/test/PHOTO-2021-07-28-10-38-24.jpg: 640x480 39 packetss, Done. (0.022s)\n",
      "image 152/157 /media/premium/common-biscuit/main/planogram_biscuit/data/packets_dataset/images/test/PHOTO-2021-07-28-10-40-10.jpg: 640x480 46 packetss, Done. (0.013s)\n",
      "image 153/157 /media/premium/common-biscuit/main/planogram_biscuit/data/packets_dataset/images/test/PHOTO-2021-07-28-11-23-57.jpg: 640x480 47 packetss, Done. (0.012s)\n",
      "image 154/157 /media/premium/common-biscuit/main/planogram_biscuit/data/packets_dataset/images/test/PHOTO-2021-07-28-11-24-49.jpg: 640x480 20 packetss, Done. (0.012s)\n",
      "image 155/157 /media/premium/common-biscuit/main/planogram_biscuit/data/packets_dataset/images/test/PHOTO-2021-07-28-11-38-54.jpg: 640x480 33 packetss, Done. (0.016s)\n",
      "image 156/157 /media/premium/common-biscuit/main/planogram_biscuit/data/packets_dataset/images/test/PHOTO-2021-07-28-11-59-01.jpg: 640x480 34 packetss, Done. (0.011s)\n",
      "image 157/157 /media/premium/common-biscuit/main/planogram_biscuit/data/packets_dataset/images/test/PHOTO-2021-07-28-12-01-27.jpg: 640x480 41 packetss, Done. (0.008s)\n",
      "Speed: 0.9ms pre-process, 15.4ms inference, 8.0ms NMS per image at shape (1, 3, 640, 640)\n",
      "Results saved to \u001b[1m../runs/packets/detect/mian_exp_all2\u001b[0m\n"
     ]
    }
   ],
   "source": [
    "import torch\n",
    "import gc\n",
    "gc.collect()\n",
    "torch.cuda.empty_cache()\n",
    "\n",
    "with torch.no_grad():\n",
    "    detect = Detect_YOLOv5(model_type='packets')\n",
    "    output_img = detect.main()\n",
    "    #print(\"Avg IOU: \", sum(detect.ious)/len(detect.ious))\n"
   ]
  },
  {
   "cell_type": "code",
   "execution_count": 4,
   "metadata": {},
   "outputs": [
    {
     "name": "stdout",
     "output_type": "stream",
     "text": [
      "[{'image_name': 'PHOTO-2021-05-14-09-22-21.jpg', 'packets': []}, {'image_name': 'PHOTO-2021-05-14-09-23-44.jpg', 'packets': []}, {'image_name': 'PHOTO-2021-05-14-09-24-45.jpg', 'packets': []}]\n"
     ]
    }
   ],
   "source": [
    "print(output_img)"
   ]
  },
  {
   "cell_type": "code",
   "execution_count": 5,
   "metadata": {},
   "outputs": [],
   "source": [
    "# import json\n",
    "# with open(\"/media/premium/common-biscuit/main/src/src/data/yolo_test_json.json\", 'w') as d:\n",
    "#     json.dump(output_img, d)"
   ]
  },
  {
   "cell_type": "code",
   "execution_count": null,
   "metadata": {},
   "outputs": [],
   "source": []
  }
 ],
 "metadata": {
  "interpreter": {
   "hash": "b0a17e71cfb66f8415d4593289c0bacfa768b3c5271e5ec471dd4b1ffdc68e6e"
  },
  "kernelspec": {
   "display_name": "Python 3.6.13 64-bit ('pepsi': conda)",
   "name": "python3"
  },
  "language_info": {
   "codemirror_mode": {
    "name": "ipython",
    "version": 3
   },
   "file_extension": ".py",
   "mimetype": "text/x-python",
   "name": "python",
   "nbconvert_exporter": "python",
   "pygments_lexer": "ipython3",
   "version": "3.6.13"
  },
  "orig_nbformat": 4
 },
 "nbformat": 4,
 "nbformat_minor": 2
}
