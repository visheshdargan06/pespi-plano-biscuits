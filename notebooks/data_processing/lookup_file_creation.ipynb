{
 "cells": [
  {
   "cell_type": "code",
   "execution_count": 1,
   "metadata": {},
   "outputs": [],
   "source": [
    "import numpy as np\n",
    "import matplotlib.pyplot as plt\n",
    "import matplotlib.patches as patches\n",
    "from xml.etree import ElementTree as ET\n",
    "import os\n",
    "import sys\n",
    "from tqdm import tqdm\n",
    "from collections import Counter\n",
    "import pandas as pd\n",
    "tqdm.pandas()"
   ]
  },
  {
   "cell_type": "code",
   "execution_count": 2,
   "metadata": {},
   "outputs": [
    {
     "name": "stdout",
     "output_type": "stream",
     "text": [
      "/media/premium/common-biscuit/main/planogram_biscuit\n"
     ]
    }
   ],
   "source": [
    "module_path = os.path.abspath(os.path.join('../../'))\n",
    "if module_path not in sys.path:\n",
    "    sys.path.append(module_path)\n",
    "\n",
    "%cd ../../"
   ]
  },
  {
   "cell_type": "code",
   "execution_count": 3,
   "metadata": {},
   "outputs": [
    {
     "name": "stderr",
     "output_type": "stream",
     "text": [
      "100%|██████████| 1606/1606 [00:01<00:00, 923.38it/s]\n"
     ]
    }
   ],
   "source": [
    "annotations_folder = \"data/raw/annotations_master/\"\n",
    "samples = os.listdir(annotations_folder)\n",
    "counter = Counter()\n",
    "for sample in tqdm(samples):\n",
    "    input_file = os.path.join(annotations_folder, sample)\n",
    "    try:\n",
    "        tree = ET.parse(input_file)\n",
    "        root_element = tree.getroot()\n",
    "        objs = []\n",
    "        for obj in root_element.findall('object'):\n",
    "            name = obj.find('name').text\n",
    "            counter.update([name] * len(obj.findall('bndbox')))\n",
    "    except:\n",
    "        continue"
   ]
  },
  {
   "cell_type": "code",
   "execution_count": 4,
   "metadata": {},
   "outputs": [
    {
     "data": {
      "text/plain": [
       "Counter({'crackets_regular_rollo': 10670,\n",
       "         'arcoiris_fruts_paquetin': 3590,\n",
       "         'chokis_clasico_rollo': 5146,\n",
       "         'chokis_chokomax_paquetin': 3350,\n",
       "         'choko_chokis_paquetin': 3463,\n",
       "         'emperador_nuez': 3444,\n",
       "         'emperador_vainilla_paquetin': 3340,\n",
       "         'senzo_mix_paquetin': 4661,\n",
       "         'emperador_chocolate': 7171,\n",
       "         'emperador_piruetas': 4157,\n",
       "         'cremax_de_nieve_fresa': 3088,\n",
       "         'cremax_de_nieve_chocolate': 3245,\n",
       "         'cremax_de_nieve_vainilla': 2911,\n",
       "         'delicias_bolsa': 1748,\n",
       "         'marias_doradas': 1404,\n",
       "         'ricanelas_paquetin': 1868,\n",
       "         'mamut_clasico_paquetin_strip': 919,\n",
       "         'mini_marias_bolsa_strip': 277,\n",
       "         'saladitas_clasica_paquetin': 1483,\n",
       "         'arcoiris_clasico_paquetin': 4528,\n",
       "         'florentinas_cajeta_paquetin': 876,\n",
       "         'barras_de_coco_paquetin': 1393,\n",
       "         'flor_de_naranjo_paquetin': 433,\n",
       "         'bombitos_clasica_bolsa': 1064,\n",
       "         'emperador_nocturno': 1920,\n",
       "         'giro_chocolate_paquetin': 2866,\n",
       "         'rack row': 12566,\n",
       "         'complete rack': 1704,\n",
       "         'marias_clasica_rollo': 6715,\n",
       "         'marias_azucaradas_rollo': 5333,\n",
       "         'emperador_combinado': 1683,\n",
       "         'maravillas': 1367,\n",
       "         'florentinas_fresa_paquetin': 863,\n",
       "         'bizcochitos_clasica_bolsa': 849,\n",
       "         'other': 865,\n",
       "         'strip': 194,\n",
       "         'bizcochitos_clasica_bolsa_strip': 86,\n",
       "         'bombitos_clasica_bolsa_strip': 80,\n",
       "         'mamut_clasico_paquetin': 107,\n",
       "         'chokis_brownie_paquetin': 411,\n",
       "         'minichokis_bolsa_strip': 575,\n",
       "         'maravillas_strip': 241,\n",
       "         'pancrema_clasica_paquetin': 79,\n",
       "         'mini_marias_chocolate_bolsa_strip': 102,\n",
       "         'flipy_caddie': 20,\n",
       "         'galleta_de_avena_chocolate_gavena_60g_strip': 13,\n",
       "         'marias_doradas_strip': 14,\n",
       "         'barras_de_coco_paquetin_strip': 8,\n",
       "         'habaneras_integrales_rollo': 429,\n",
       "         'chokis_brownie_paquetin_strip': 19,\n",
       "         'mini_mamut_caddie_strip': 24,\n",
       "         'chocolatines_paquetin': 38,\n",
       "         'saladitas_clasica_caja': 41,\n",
       "         'mini_marias_bolsa': 71,\n",
       "         'minichokis_bolsa': 72,\n",
       "         'galleta_de_avena_chocolate_gavena_60g': 35,\n",
       "         'mini_marias_chocolate_bolsa': 42,\n",
       "         'galleta_de_avena_manzana_gavena_60g': 38,\n",
       "         'chokis_chocotella_paquetin': 135,\n",
       "         'others': 1,\n",
       "         'galleta_de_avena_frutos_rojos_gavena_60g': 37,\n",
       "         'flipy_caddie_strip': 43,\n",
       "         'galleta_de_avena_granola_gavena_60g': 17,\n",
       "         'chocolatines_paquetin_strip': 70,\n",
       "         'galleta_de_avena_manzana_gavena_60g_strip': 39,\n",
       "         'mini_mamut_caddie': 13,\n",
       "         'emperador_chocolate.png': 2,\n",
       "         'chokis_chocotella_paquetin_strip': 14,\n",
       "         'flor_de_naranjo_paquetin_strip': 2,\n",
       "         'galleta_de_avena_granola_gavena_60g_strip': 32,\n",
       "         'galleta_de_avena_frutos_rojos_gavena_60g_strip': 37,\n",
       "         'galleta_de_avena_moras_yog_gavena_60g_strip': 6,\n",
       "         'galleta_de_avena_moras_yog_gavena_60g': 1,\n",
       "         'cremax_de_nieve_fersa': 2,\n",
       "         'cremax_de_nieve_surtido_caddie': 14,\n",
       "         'delicias_bolsa_strip': 4,\n",
       "         'saladitas_clasica_cajad': 1,\n",
       "         'cremas_de_nieve_surtido_caddie': 16,\n",
       "         'mini_marias_bols_strip': 1,\n",
       "         'Complete Rack': 3,\n",
       "         'Other': 1,\n",
       "         'marias_azucaradas_rolload': 4,\n",
       "         'rack Row': 2,\n",
       "         'Strip': 1,\n",
       "         'cremax_de_nieve_fresa_strip': 8,\n",
       "         'cremax_de_nieve_vainilla_strip': 5,\n",
       "         'cremax_de_nieve_chocolate_strip': 9})"
      ]
     },
     "execution_count": 4,
     "metadata": {},
     "output_type": "execute_result"
    }
   ],
   "source": [
    "counter"
   ]
  },
  {
   "cell_type": "code",
   "execution_count": 5,
   "metadata": {},
   "outputs": [
    {
     "data": {
      "text/plain": [
       "87"
      ]
     },
     "execution_count": 5,
     "metadata": {},
     "output_type": "execute_result"
    }
   ],
   "source": [
    "len(counter)"
   ]
  },
  {
   "cell_type": "code",
   "execution_count": 9,
   "metadata": {},
   "outputs": [
    {
     "data": {
      "text/html": [
       "<div>\n",
       "<style scoped>\n",
       "    .dataframe tbody tr th:only-of-type {\n",
       "        vertical-align: middle;\n",
       "    }\n",
       "\n",
       "    .dataframe tbody tr th {\n",
       "        vertical-align: top;\n",
       "    }\n",
       "\n",
       "    .dataframe thead th {\n",
       "        text-align: right;\n",
       "    }\n",
       "</style>\n",
       "<table border=\"1\" class=\"dataframe\">\n",
       "  <thead>\n",
       "    <tr style=\"text-align: right;\">\n",
       "      <th></th>\n",
       "      <th>label_annotation_file</th>\n",
       "    </tr>\n",
       "  </thead>\n",
       "  <tbody>\n",
       "    <tr>\n",
       "      <th>0</th>\n",
       "      <td>crackets_regular_rollo</td>\n",
       "    </tr>\n",
       "    <tr>\n",
       "      <th>1</th>\n",
       "      <td>arcoiris_fruts_paquetin</td>\n",
       "    </tr>\n",
       "    <tr>\n",
       "      <th>2</th>\n",
       "      <td>chokis_clasico_rollo</td>\n",
       "    </tr>\n",
       "    <tr>\n",
       "      <th>3</th>\n",
       "      <td>chokis_chokomax_paquetin</td>\n",
       "    </tr>\n",
       "    <tr>\n",
       "      <th>4</th>\n",
       "      <td>choko_chokis_paquetin</td>\n",
       "    </tr>\n",
       "  </tbody>\n",
       "</table>\n",
       "</div>"
      ],
      "text/plain": [
       "      label_annotation_file\n",
       "0    crackets_regular_rollo\n",
       "1   arcoiris_fruts_paquetin\n",
       "2      chokis_clasico_rollo\n",
       "3  chokis_chokomax_paquetin\n",
       "4     choko_chokis_paquetin"
      ]
     },
     "execution_count": 9,
     "metadata": {},
     "output_type": "execute_result"
    }
   ],
   "source": [
    "df = pd.DataFrame.from_dict(counter, orient='index').reset_index()\n",
    "df.rename(columns={'index': 'label_annotation_file'}, inplace=True)\n",
    "df.drop([0], axis=1, inplace = True)\n",
    "df.head()"
   ]
  },
  {
   "cell_type": "code",
   "execution_count": 7,
   "metadata": {},
   "outputs": [],
   "source": [
    "def display_label_packets(name):\n",
    "    cls = ''\n",
    "    if name not in ['rack row', 'complete rack', 'Complete Rack', 'rack Row']:\n",
    "        cls ='packets'\n",
    "    return cls\n",
    "\n",
    "def label_index_packets(name):\n",
    "    cls = None\n",
    "    if name not in ['rack row', 'complete rack', 'Complete Rack', 'rack Row']:\n",
    "        cls = int(0)\n",
    "    return cls\n",
    "\n",
    "def display_label_rackrow(name):\n",
    "    cls = ''\n",
    "    if name in ['rack row', 'rack Row']:\n",
    "        cls = 'rack row'\n",
    "    elif name in ['complete rack', 'Complete Rack']:\n",
    "        cls = 'complete rack'\n",
    "    return cls\n",
    "\n",
    "def label_index_rackrow(name):\n",
    "    cls = None\n",
    "    if name in ['rack row', 'rack Row']:\n",
    "        cls = int(0)\n",
    "    elif name in ['complete rack', 'Complete Rack']:\n",
    "        cls = int(1)\n",
    "    return cls"
   ]
  },
  {
   "cell_type": "code",
   "execution_count": 10,
   "metadata": {},
   "outputs": [
    {
     "name": "stderr",
     "output_type": "stream",
     "text": [
      "100%|██████████| 87/87 [00:00<00:00, 149367.35it/s]\n",
      "100%|██████████| 87/87 [00:00<00:00, 209354.24it/s]\n"
     ]
    }
   ],
   "source": [
    "# # packets lookup \n",
    "# df['display_label'] = df['label_annotation_file'].progress_apply(lambda x: display_label_packets(x))\n",
    "# df['label_index']= df['label_annotation_file'].progress_apply(lambda x: label_index_packets(x))\n",
    "# df.to_csv('data/lookups/packets_lookup.csv')\n",
    "\n",
    "# rackrow lookup\n",
    "df['display_label'] = df['label_annotation_file'].progress_apply(lambda x: display_label_rackrow(x))\n",
    "df['label_index']= df['label_annotation_file'].progress_apply(lambda x: label_index_rackrow(x))\n",
    "df.to_csv('data/lookups/rackrow_lookup.csv')"
   ]
  },
  {
   "cell_type": "code",
   "execution_count": null,
   "metadata": {},
   "outputs": [],
   "source": []
  }
 ],
 "metadata": {
  "interpreter": {
   "hash": "b0a17e71cfb66f8415d4593289c0bacfa768b3c5271e5ec471dd4b1ffdc68e6e"
  },
  "kernelspec": {
   "display_name": "Python 3.6.13 64-bit ('pepsi': conda)",
   "name": "python3"
  },
  "language_info": {
   "codemirror_mode": {
    "name": "ipython",
    "version": 3
   },
   "file_extension": ".py",
   "mimetype": "text/x-python",
   "name": "python",
   "nbconvert_exporter": "python",
   "pygments_lexer": "ipython3",
   "version": "3.6.13"
  }
 },
 "nbformat": 4,
 "nbformat_minor": 2
}
