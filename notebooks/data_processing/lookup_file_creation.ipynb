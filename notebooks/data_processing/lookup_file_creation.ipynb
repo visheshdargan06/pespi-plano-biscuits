{
 "cells": [
  {
   "cell_type": "code",
   "execution_count": 43,
   "metadata": {},
   "outputs": [],
   "source": [
    "import numpy as np\n",
    "import matplotlib.pyplot as plt\n",
    "import matplotlib.patches as patches\n",
    "from xml.etree import ElementTree as ET\n",
    "import os\n",
    "import sys\n",
    "from tqdm import tqdm\n",
    "from collections import Counter\n",
    "import pandas as pd\n",
    "tqdm.pandas()"
   ]
  },
  {
   "cell_type": "code",
   "execution_count": null,
   "metadata": {},
   "outputs": [],
   "source": [
    "module_path = os.path.abspath(os.path.join('../../src/'))\n",
    "if module_path not in sys.path:\n",
    "    sys.path.append(module_path)\n",
    "\n",
    "%cd ../../src/"
   ]
  },
  {
   "cell_type": "code",
   "execution_count": 44,
   "metadata": {},
   "outputs": [
    {
     "name": "stderr",
     "output_type": "stream",
     "text": [
      "\n",
      "\n",
      "  0%|                                                                                          | 0/209 [00:00<?, ?it/s]\n",
      "\n",
      "  2%|█▌                                                                                | 4/209 [00:01<00:53,  3.84it/s]\n",
      "\n",
      " 11%|████████▌                                                                        | 22/209 [00:01<00:34,  5.43it/s]\n",
      "\n",
      " 18%|██████████████▎                                                                  | 37/209 [00:01<00:22,  7.64it/s]\n",
      "\n",
      " 26%|████████████████████▉                                                            | 54/209 [00:01<00:14, 10.70it/s]\n",
      "\n",
      " 34%|███████████████████████████▉                                                     | 72/209 [00:01<00:09, 14.85it/s]\n",
      "\n",
      " 41%|█████████████████████████████████▎                                               | 86/209 [00:01<00:06, 20.18it/s]\n",
      "\n",
      " 50%|███████████████████████████████████████▊                                        | 104/209 [00:01<00:03, 27.44it/s]\n",
      "\n",
      " 58%|██████████████████████████████████████████████▋                                 | 122/209 [00:01<00:02, 36.69it/s]\n",
      "\n",
      " 68%|██████████████████████████████████████████████████████▎                         | 142/209 [00:01<00:01, 48.60it/s]\n",
      "\n",
      " 76%|████████████████████████████████████████████████████████████▊                   | 159/209 [00:02<00:00, 61.83it/s]\n",
      "\n",
      " 84%|███████████████████████████████████████████████████████████████████▎            | 176/209 [00:02<00:00, 73.30it/s]\n",
      "\n",
      " 92%|█████████████████████████████████████████████████████████████████████████▉      | 193/209 [00:02<00:00, 86.68it/s]\n",
      "\n",
      "100%|███████████████████████████████████████████████████████████████████████████████| 209/209 [00:02<00:00, 100.30it/s]\n",
      "\n"
     ]
    }
   ],
   "source": [
    "annotations_folder = \"data/raw/annotation_masters\"\n",
    "samples = os.listdir(annotations_folder)\n",
    "counter = Counter()\n",
    "for sample in tqdm(samples):\n",
    "    input_file = os.path.join(annotations_folder, sample)\n",
    "    try:\n",
    "        tree = ET.parse(input_file)\n",
    "        root_element = tree.getroot()\n",
    "        objs = []\n",
    "        for obj in root_element.findall('object'):\n",
    "            name = obj.find('name').text\n",
    "            counter.update([name] * len(obj.findall('bndbox')))\n",
    "    except:\n",
    "        continue"
   ]
  },
  {
   "cell_type": "code",
   "execution_count": 45,
   "metadata": {},
   "outputs": [
    {
     "data": {
      "text/plain": [
       "Counter({'mamut_clasico_paquetin_strip': 68,\n",
       "         'bizcochitos_clasica_bolsa': 53,\n",
       "         'delicias_bolsa': 107,\n",
       "         'ricanelas_paquetin': 103,\n",
       "         'florentinas_cajeta_paquetin': 85,\n",
       "         'florentinas_fresa_paquetin': 82,\n",
       "         'marias_doradas': 78,\n",
       "         'chokis_clasico_rollo': 305,\n",
       "         'emperador_piruetas': 250,\n",
       "         'emperador_chocolate': 400,\n",
       "         'cremax_de_nieve_vainilla': 173,\n",
       "         'cremax_de_nieve_fresa': 196,\n",
       "         'senzo_mix_paquetin': 230,\n",
       "         'giro_chocolate_paquetin': 205,\n",
       "         'emperador_nuez': 188,\n",
       "         'emperador_nocturno': 114,\n",
       "         'emperador_vainilla_paquetin': 173,\n",
       "         'emperador_combinado': 146,\n",
       "         'chokis_brownie_paquetin': 40,\n",
       "         'arcoiris_fruts_paquetin': 208,\n",
       "         'chokis_chokomax_paquetin': 177,\n",
       "         'choko_chokis_paquetin': 183,\n",
       "         'cremax_de_nieve_chocolate': 174,\n",
       "         'crackets_regular_rollo': 584,\n",
       "         'saladitas_clasica_paquetin': 76,\n",
       "         'marias_clasica_rollo': 397,\n",
       "         'marias_azucaradas_rollo': 298,\n",
       "         'rack row': 764,\n",
       "         'complete rack': 110,\n",
       "         'mini_marias_bolsa_strip': 27,\n",
       "         'maravillas_strip': 20,\n",
       "         'maravillas': 87,\n",
       "         'flor_de_naranjo_paquetin': 63,\n",
       "         'chokis_chocotella_paquetin': 16,\n",
       "         'arcoiris_clasico_paquetin': 243,\n",
       "         'bombitos_clasica_bolsa': 67,\n",
       "         'habaneras_integrales_rollo': 42,\n",
       "         'minichokis_bolsa_strip': 49,\n",
       "         'chocolatines_paquetin_strip': 7,\n",
       "         'mini_mamut_caddie_strip': 4,\n",
       "         'other': 50,\n",
       "         'flipy_caddie_strip': 9,\n",
       "         'chocolatines_paquetin': 28,\n",
       "         'barras_de_coco_paquetin': 29,\n",
       "         'saladitas_clasica_caja': 17,\n",
       "         'chokis_chocotella_paquetin_strip': 2,\n",
       "         'cremas_de_nieve_surtido_caddie': 16,\n",
       "         'chokis_brownie_paquetin_strip': 1,\n",
       "         'mamut_clasico_paquetin': 5,\n",
       "         'cremax_de_nieve_surtido_caddie': 2,\n",
       "         'galleta_de_avena_granola_gavena_60g_strip': 5,\n",
       "         'minichokis_bolsa': 2,\n",
       "         'pancrema_clasica_paquetin': 1,\n",
       "         'galleta_de_avena_moras_yog_gavena_60g_strip': 1,\n",
       "         'marias_doradas_strip': 1,\n",
       "         'mini_marias_bols_strip': 1,\n",
       "         'bombitos_clasica_bolsa_strip': 3,\n",
       "         'bizcochitos_clasica_bolsa_strip': 3,\n",
       "         'mini_marias_chocolate_bolsa_strip': 4,\n",
       "         'Complete Rack': 3,\n",
       "         'strip': 2,\n",
       "         'mini_mamut_caddie': 1,\n",
       "         'Other': 1,\n",
       "         'marias_azucaradas_rolload': 4,\n",
       "         'galleta_de_avena_frutos_rojos_gavena_60g': 3,\n",
       "         'rack Row': 2,\n",
       "         'delicias_bolsa_strip': 2,\n",
       "         'Strip': 1,\n",
       "         'galleta_de_avena_frutos_rojos_gavena_60g_strip': 1})"
      ]
     },
     "execution_count": 45,
     "metadata": {},
     "output_type": "execute_result"
    }
   ],
   "source": [
    "counter"
   ]
  },
  {
   "cell_type": "code",
   "execution_count": 49,
   "metadata": {},
   "outputs": [
    {
     "data": {
      "text/html": [
       "<div>\n",
       "<style scoped>\n",
       "    .dataframe tbody tr th:only-of-type {\n",
       "        vertical-align: middle;\n",
       "    }\n",
       "\n",
       "    .dataframe tbody tr th {\n",
       "        vertical-align: top;\n",
       "    }\n",
       "\n",
       "    .dataframe thead th {\n",
       "        text-align: right;\n",
       "    }\n",
       "</style>\n",
       "<table border=\"1\" class=\"dataframe\">\n",
       "  <thead>\n",
       "    <tr style=\"text-align: right;\">\n",
       "      <th></th>\n",
       "      <th>label_annotation_file</th>\n",
       "    </tr>\n",
       "  </thead>\n",
       "  <tbody>\n",
       "    <tr>\n",
       "      <th>0</th>\n",
       "      <td>mamut_clasico_paquetin_strip</td>\n",
       "    </tr>\n",
       "    <tr>\n",
       "      <th>1</th>\n",
       "      <td>bizcochitos_clasica_bolsa</td>\n",
       "    </tr>\n",
       "    <tr>\n",
       "      <th>2</th>\n",
       "      <td>delicias_bolsa</td>\n",
       "    </tr>\n",
       "    <tr>\n",
       "      <th>3</th>\n",
       "      <td>ricanelas_paquetin</td>\n",
       "    </tr>\n",
       "    <tr>\n",
       "      <th>4</th>\n",
       "      <td>florentinas_cajeta_paquetin</td>\n",
       "    </tr>\n",
       "  </tbody>\n",
       "</table>\n",
       "</div>"
      ],
      "text/plain": [
       "          label_annotation_file\n",
       "0  mamut_clasico_paquetin_strip\n",
       "1     bizcochitos_clasica_bolsa\n",
       "2                delicias_bolsa\n",
       "3            ricanelas_paquetin\n",
       "4   florentinas_cajeta_paquetin"
      ]
     },
     "execution_count": 49,
     "metadata": {},
     "output_type": "execute_result"
    }
   ],
   "source": [
    "df = pd.DataFrame.from_dict(counter, orient='index').reset_index()\n",
    "df.rename(columns={'index': 'label_annotation_file'}, inplace=True)\n",
    "df.drop([0], axis=1, inplace = True)\n",
    "df.head()"
   ]
  },
  {
   "cell_type": "code",
   "execution_count": 50,
   "metadata": {},
   "outputs": [],
   "source": [
    "def display_label_packets(name):\n",
    "    cls = ''\n",
    "    if name not in ['rack row', 'complete rack', 'Complete Rack', 'rack Row']:\n",
    "        cls ='packets'\n",
    "    return cls\n",
    "\n",
    "def label_index_packets(name):\n",
    "    cls = None\n",
    "    if name not in ['rack row', 'complete rack', 'Complete Rack', 'rack Row']:\n",
    "        cls = int(0)\n",
    "    return cls\n",
    "\n",
    "def display_label_rackrow(name):\n",
    "    cls = ''\n",
    "    if name in ['rack row', 'rack Row']:\n",
    "        cls = 'rack row'\n",
    "    elif name in ['complete rack', 'Complete Rack']:\n",
    "        cls = 'complete rack'\n",
    "    return cls\n",
    "\n",
    "def label_index_rackrow(name):\n",
    "    cls = None\n",
    "    if name in ['rack row', 'rack Row']:\n",
    "        cls = int(0)\n",
    "    elif name in ['complete rack', 'Complete Rack']:\n",
    "        cls = int(1)\n",
    "    return cls"
   ]
  },
  {
   "cell_type": "code",
   "execution_count": 51,
   "metadata": {},
   "outputs": [
    {
     "name": "stderr",
     "output_type": "stream",
     "text": [
      "\n",
      "\n",
      "  0%|                                                                                           | 0/69 [00:00<?, ?it/s]\n",
      "\n",
      "100%|████████████████████████████████████████████████████████████████████████████████| 69/69 [00:00<00:00, 4312.11it/s]\n",
      "\n",
      "  0%|                                                                                           | 0/69 [00:00<?, ?it/s]\n",
      "\n",
      "100%|███████████████████████████████████████████████████████████████████████████████| 69/69 [00:00<00:00, 13797.71it/s]"
     ]
    }
   ],
   "source": [
    "## packets lookup \n",
    "# df['display_label'] = df['label_annotation_file'].progress_apply(lambda x: display_label_packets(x))\n",
    "# df['label_index']= df['label_annotation_file'].progress_apply(lambda x: label_index_packets(x))\n",
    "# df.to_csv('lookups/packets_lookup.csv')\n",
    "\n",
    "# rackrow lookup\n",
    "df['display_label'] = df['label_annotation_file'].progress_apply(lambda x: display_label_rackrow(x))\n",
    "df['label_index']= df['label_annotation_file'].progress_apply(lambda x: label_index_rackrow(x))\n",
    "df.to_csv('lookups/rackrow_lookup.csv')"
   ]
  },
  {
   "cell_type": "code",
   "execution_count": null,
   "metadata": {},
   "outputs": [],
   "source": []
  }
 ],
 "metadata": {
  "kernelspec": {
   "display_name": "Python 3",
   "language": "python",
   "name": "python3"
  },
  "language_info": {
   "codemirror_mode": {
    "name": "ipython",
    "version": 3
   },
   "file_extension": ".py",
   "mimetype": "text/x-python",
   "name": "python",
   "nbconvert_exporter": "python",
   "pygments_lexer": "ipython3",
   "version": "3.7.0"
  }
 },
 "nbformat": 4,
 "nbformat_minor": 2
}
