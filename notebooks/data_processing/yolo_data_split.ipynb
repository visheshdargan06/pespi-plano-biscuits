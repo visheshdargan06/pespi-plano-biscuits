{
 "cells": [
  {
   "cell_type": "code",
   "execution_count": 1,
   "metadata": {},
   "outputs": [],
   "source": [
    "import os\n",
    "import numpy as np"
   ]
  },
  {
   "cell_type": "code",
   "execution_count": 12,
   "metadata": {},
   "outputs": [],
   "source": [
    "images = os.listdir('/media/premium/common-biscuit/main/planogram_biscuit/data/raw/annotations_master')"
   ]
  },
  {
   "cell_type": "code",
   "execution_count": 13,
   "metadata": {},
   "outputs": [
    {
     "data": {
      "text/plain": [
       "1607"
      ]
     },
     "execution_count": 13,
     "metadata": {},
     "output_type": "execute_result"
    }
   ],
   "source": [
    "len(images)"
   ]
  },
  {
   "cell_type": "code",
   "execution_count": 5,
   "metadata": {},
   "outputs": [],
   "source": [
    "train, validate, test = np.split(images, [int(len(images)*1), int(len(images))])"
   ]
  },
  {
   "cell_type": "code",
   "execution_count": 6,
   "metadata": {},
   "outputs": [
    {
     "data": {
      "text/plain": [
       "(642, 0, 0)"
      ]
     },
     "execution_count": 6,
     "metadata": {},
     "output_type": "execute_result"
    }
   ],
   "source": [
    "len(train), len(validate),len(test)"
   ]
  },
  {
   "cell_type": "code",
   "execution_count": 9,
   "metadata": {},
   "outputs": [
    {
     "data": {
      "text/plain": [
       "'MX-G06134_0100371273_70105295_19.11845000~-98.17544000_1_2021-11-10_after.xml'"
      ]
     },
     "execution_count": 9,
     "metadata": {},
     "output_type": "execute_result"
    }
   ],
   "source": [
    "images[0]"
   ]
  },
  {
   "cell_type": "code",
   "execution_count": null,
   "metadata": {},
   "outputs": [],
   "source": []
  },
  {
   "cell_type": "markdown",
   "metadata": {},
   "source": [
    "## Getting XML files for specific class"
   ]
  },
  {
   "cell_type": "code",
   "execution_count": 7,
   "metadata": {},
   "outputs": [],
   "source": [
    "import numpy as np\n",
    "import matplotlib.pyplot as plt\n",
    "import matplotlib.patches as patches\n",
    "from xml.etree import ElementTree as ET\n",
    "import os\n",
    "import sys\n",
    "from tqdm import tqdm\n",
    "from collections import Counter\n",
    "import pandas as pd\n",
    "tqdm.pandas()"
   ]
  },
  {
   "cell_type": "code",
   "execution_count": 24,
   "metadata": {},
   "outputs": [
    {
     "name": "stderr",
     "output_type": "stream",
     "text": [
      " 15%|█▌        | 248/1607 [00:00<00:01, 1158.70it/s]"
     ]
    },
    {
     "name": "stdout",
     "output_type": "stream",
     "text": [
      "PHOTO-2021-06-24-10-30-03.xml\n"
     ]
    },
    {
     "name": "stderr",
     "output_type": "stream",
     "text": [
      " 31%|███▏      | 503/1607 [00:00<00:00, 1195.05it/s]"
     ]
    },
    {
     "name": "stdout",
     "output_type": "stream",
     "text": [
      "PHOTO-2021-06-22-10-00-28.xml\n",
      "PHOTO-2021-07-05-14-31-06.xml\n"
     ]
    },
    {
     "name": "stderr",
     "output_type": "stream",
     "text": [
      " 54%|█████▍    | 869/1607 [00:00<00:00, 1150.96it/s]"
     ]
    },
    {
     "name": "stdout",
     "output_type": "stream",
     "text": [
      "PHOTO-2021-07-02-09-36-52.xml\n",
      "PHOTO-2021-06-30-15-56-46.xml\n",
      "PHOTO-2021-05-14-10-02-55.xml\n"
     ]
    },
    {
     "name": "stderr",
     "output_type": "stream",
     "text": [
      " 62%|██████▏   | 1002/1607 [00:00<00:00, 1203.97it/s]"
     ]
    },
    {
     "name": "stdout",
     "output_type": "stream",
     "text": [
      "PHOTO-2021-05-18-07-32-48.xml\n",
      "PHOTO-2021-05-14-14-06-09 3.xml\n",
      "PHOTO-2021-05-14-14-06-09 3.xml\n",
      "PHOTO-2021-05-14-14-06-09 4.xml\n",
      "PHOTO-2021-05-14-14-06-09 4.xml\n",
      "PHOTO-2021-05-17-11-10-58.xml\n",
      "PHOTO-2021-05-17-11-10-58.xml\n",
      "PHOTO-2021-05-17-11-10-58.xml\n",
      "PHOTO-2021-05-17-11-10-58.xml\n",
      "PHOTO-2021-05-17-11-14-43 2.xml\n",
      "PHOTO-2021-05-17-11-14-43 2.xml\n",
      "PHOTO-2021-05-17-11-14-43 2.xml\n",
      "PHOTO-2021-05-17-11-14-43 2.xml\n",
      "PHOTO-2021-05-17-11-14-43 2.xml\n",
      "PHOTO-2021-05-17-11-14-43 2.xml\n",
      "PHOTO-2021-05-17-11-14-43 2.xml\n",
      "PHOTO-2021-05-17-11-14-43 2.xml\n",
      "PHOTO-2021-05-17-11-14-43 2.xml\n",
      "PHOTO-2021-05-17-11-14-43 2.xml\n",
      "PHOTO-2021-05-17-11-14-44 3.xml\n",
      "PHOTO-2021-05-17-11-14-44 3.xml\n",
      "PHOTO-2021-05-17-11-14-44 3.xml\n",
      "PHOTO-2021-05-17-11-14-44 3.xml\n",
      "PHOTO-2021-05-17-11-14-44 3.xml\n",
      "PHOTO-2021-05-17-11-14-44 3.xml\n",
      "PHOTO-2021-05-17-11-14-44 3.xml\n",
      "PHOTO-2021-05-17-11-14-44 3.xml\n",
      "PHOTO-2021-05-17-11-14-44 3.xml\n"
     ]
    },
    {
     "name": "stderr",
     "output_type": "stream",
     "text": [
      " 84%|████████▍ | 1354/1607 [00:01<00:00, 1050.33it/s]"
     ]
    },
    {
     "name": "stdout",
     "output_type": "stream",
     "text": [
      "PHOTO-2021-05-25-11-25-06.xml\n",
      "PHOTO-2021-05-25-11-25-06.xml\n",
      "PHOTO-2021-05-25-13-55-46.xml\n"
     ]
    },
    {
     "name": "stderr",
     "output_type": "stream",
     "text": [
      "100%|██████████| 1607/1607 [00:01<00:00, 1100.75it/s]"
     ]
    },
    {
     "name": "stdout",
     "output_type": "stream",
     "text": [
      "PHOTO-2021-07-28-10-38-24.xml\n"
     ]
    },
    {
     "name": "stderr",
     "output_type": "stream",
     "text": [
      "\n"
     ]
    }
   ],
   "source": [
    "\n",
    "for sample in tqdm(images):\n",
    "    try:\n",
    "        input_file = os.path.join('/media/premium/common-biscuit/main/planogram_biscuit/data/raw/annotations_master', sample)\n",
    "        tree = ET.parse(input_file)\n",
    "        root_element = tree.getroot()\n",
    "        objs = []\n",
    "        for obj in root_element.findall('object'):\n",
    "            name = obj.find('name').text\n",
    "            if name == \"chocolatines_paquetin\":\n",
    "                print(sample)\n",
    "                #file = open(\"/media/premium/common-biscuit/main/planogram_biscuit/data/raw/chocolatines_paquetin_xml/\"+sample, \"w\")\n",
    "                tree.write(\"/media/premium/common-biscuit/main/planogram_biscuit/data/raw/chocolatines_paquetin_xml/\"+sample)\n",
    "    except:\n",
    "        continue"
   ]
  },
  {
   "cell_type": "code",
   "execution_count": 20,
   "metadata": {},
   "outputs": [],
   "source": [
    "tree = ET.parse(os.path.join('/media/premium/common-biscuit/main/planogram_biscuit/data/raw/annotations_master', images[0]))"
   ]
  },
  {
   "cell_type": "code",
   "execution_count": 23,
   "metadata": {},
   "outputs": [
    {
     "data": {
      "text/plain": [
       "<Element 'annotation' at 0x7f81f6c49778>"
      ]
     },
     "execution_count": 23,
     "metadata": {},
     "output_type": "execute_result"
    }
   ],
   "source": [
    "tree.getroot()"
   ]
  },
  {
   "cell_type": "code",
   "execution_count": null,
   "metadata": {},
   "outputs": [],
   "source": []
  },
  {
   "cell_type": "markdown",
   "metadata": {},
   "source": [
    "## List manipulation for Complete Rack"
   ]
  },
  {
   "cell_type": "code",
   "execution_count": 1,
   "metadata": {},
   "outputs": [],
   "source": [
    "a =[1,2,3,4,5]"
   ]
  },
  {
   "cell_type": "code",
   "execution_count": 2,
   "metadata": {},
   "outputs": [
    {
     "data": {
      "text/plain": [
       "2"
      ]
     },
     "execution_count": 2,
     "metadata": {},
     "output_type": "execute_result"
    }
   ],
   "source": [
    "a.pop(1)"
   ]
  },
  {
   "cell_type": "code",
   "execution_count": 3,
   "metadata": {},
   "outputs": [
    {
     "data": {
      "text/plain": [
       "[1, 3, 4, 5]"
      ]
     },
     "execution_count": 3,
     "metadata": {},
     "output_type": "execute_result"
    }
   ],
   "source": [
    "a"
   ]
  },
  {
   "cell_type": "code",
   "execution_count": 4,
   "metadata": {},
   "outputs": [],
   "source": [
    "rack_coord = [\n",
    "        {\n",
    "            \"x1\": \"192\",\n",
    "            \"y1\": \"22\",\n",
    "            \"x2\": \"1220\",\n",
    "            \"y2\": \"1878\"\n",
    "        }\n",
    "    ]\n",
    "\n",
    "all_racks = [\n",
    "        {\n",
    "            \"x1\": \"192\",\n",
    "            \"y1\": \"22\",\n",
    "            \"x2\": \"1220\",\n",
    "            \"y2\": \"1878\"\n",
    "        },\n",
    "        {\n",
    "            \"x1\": \"315\",\n",
    "            \"y1\": \"659\",\n",
    "            \"x2\": \"1134\",\n",
    "            \"y2\": \"1000\"\n",
    "        }\n",
    "    ]\n",
    "    \n",
    "x1_rack = rack_coord[0]['x1']\n"
   ]
  },
  {
   "cell_type": "code",
   "execution_count": 8,
   "metadata": {},
   "outputs": [
    {
     "name": "stdout",
     "output_type": "stream",
     "text": [
      "0\n",
      "LEFT\n"
     ]
    }
   ],
   "source": [
    "for index,i in enumerate(all_racks):\n",
    "    if i == rack_coord[0]:\n",
    "        print(index)\n",
    "        continue\n",
    "    elif int(x1_rack) > int(i['x1']):\n",
    "        print(\"RIGHT\")\n",
    "    else:\n",
    "        print(\"LEFT\")"
   ]
  },
  {
   "cell_type": "code",
   "execution_count": null,
   "metadata": {},
   "outputs": [],
   "source": []
  }
 ],
 "metadata": {
  "interpreter": {
   "hash": "b0a17e71cfb66f8415d4593289c0bacfa768b3c5271e5ec471dd4b1ffdc68e6e"
  },
  "kernelspec": {
   "display_name": "Python 3.6.13 64-bit ('pepsi': conda)",
   "name": "python3"
  },
  "language_info": {
   "codemirror_mode": {
    "name": "ipython",
    "version": 3
   },
   "file_extension": ".py",
   "mimetype": "text/x-python",
   "name": "python",
   "nbconvert_exporter": "python",
   "pygments_lexer": "ipython3",
   "version": "3.6.13"
  },
  "orig_nbformat": 4
 },
 "nbformat": 4,
 "nbformat_minor": 2
}
